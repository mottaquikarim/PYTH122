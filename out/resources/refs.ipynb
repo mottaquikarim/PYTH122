{
 "cells": [
  {
   "cell_type": "markdown",
   "metadata": {},
   "source": [
    "[![Open In Colab](https://colab.research.google.com/assets/colab-badge.svg)](https://colab.research.google.com/github/mottaquikarim/pycontent/blob/master/.out/resources/refs.ipynb)"
   ]
  },
  {
   "cell_type": "markdown",
   "metadata": {},
   "source": [
    "# Reference Sources\n",
    "\n",
    "## High-Level Reference Sources\n",
    "\n",
    "* [Real Python](https://realpython.com)\n",
    "* [Towards Data Science](https://towardsdatascience.com/)\n",
    "* [Elite Data Science](https://elitedatascience.com/)\n",
    "* [Geeks for Geeks](https://www.geeksforgeeks.org/python-programming-language/)\n",
    "* [freeCodeCamp](https://www.freecodecamp.org/)\n",
    "* [DataCamp](https://www.datacamp.com/)\n",
    "* [Data to Viz](https://www.data-to-viz.com/#explore)\n",
    "* [Python Graph Gallery](https://python-graph-gallery.com/)\n",
    "\n",
    "## Official Documentation\n",
    "\n",
    "* [Python](https://docs.python.org/)\n",
    "* [Python Packaging Tool Recommendations](https://packaging.python.org/guides/tool-recommendations/)\n",
    "* [NumPy](https://www.numpy.org/)\n",
    "* [Pandas](http://pandas.pydata.org/)\n",
    "* [Matplotlib](https://matplotlib.org/)\n",
    "* [Seaborn](http://seaborn.pydata.org/)\n",
    "\n",
    "## Topical Articles/Resources\n",
    "\n",
    "* [Understanding Python Installation and VirtualEnv](https://codeburst.io/understanding-python-installation-and-virtualenv-a-friendly-guide-for-beginners-and-2b82859b06ae)\n",
    "* [Python Syntax Cheat Sheet 1](https://www.cheatography.com/davechild/cheat-sheets/python/)\n",
    "* [Python Syntax Cheat Sheet 2](https://www.cheatography.com/sschaub/cheat-sheets/essential-python/)\n",
    "* [Python Syntax Cheat Sheet 3](https://www.docsity.com/en/python-cheat-sheet-for-beginner/4564823/)\n",
    "* [Operators Cheatsheet](http://python-reference.readthedocs.io/en/latest/docs/operators/)\n",
    "* [Built-in Python functions](https://docs.python.org/3/library/functions.html#func-range)\n",
    "* [Error Handling Flow Diagram](https://pythonforbiologists.com/29-common-beginner-errors-on-one-page)\n",
    "* [Examples of Itertools in Python 3](https://realpython.com/python-itertools/)\n",
    "* [Python Iterators: A Step-By-Step Introduction](https://dbader.org/blog/python-iterators)\n",
    "* [Python Iterator Tutorial](https://www.datacamp.com/community/tutorials/python-iterator-tutorial)\n",
    "* [Comprehending Python’s Comprehensions](https://dbader.org/blog/list-dict-set-comprehensions-in-python)\n",
    "* [When to Use a List Comprehension in Python](https://realpython.com/list-comprehension-python/)\n",
    "* [Real Python's PyTest Tutorial](https://realpython.com/courses/test-driven-development-pytest/)\n",
    "* [Data to Viz Interactive Diagram](https://www.data-to-viz.com/#explore)\n",
    "* [Data to Viz Visualization Style Tips](https://www.data-to-viz.com/caveats.html)"
   ]
  }
 ],
 "metadata": {},
 "nbformat": 4,
 "nbformat_minor": 2
}
