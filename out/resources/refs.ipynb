{
 "cells": [
  {
   "cell_type": "markdown",
   "metadata": {},
   "source": [
    "[![Open In Colab](https://colab.research.google.com/assets/colab-badge.svg)](https://colab.research.google.com/github/mottaquikarim/pycontent/blob/master/.out/resources/refs.ipynb)"
   ]
  },
  {
   "cell_type": "markdown",
   "metadata": {},
   "source": [
    "# Reference Sources\n",
    "\n",
    "## High-Level Reference Sources\n",
    "\n",
    "### For Helpful Articles & Tutorials\n",
    "\n",
    "* [Real Python](https://realpython.com)\n",
    "* [Towards Data Science](https://towardsdatascience.com/)\n",
    "* [Elite Data Science](https://elitedatascience.com/)\n",
    "* [Geeks for Geeks](https://www.geeksforgeeks.org/python-programming-language/)\n",
    "* [freeCodeCamp](https://www.freecodecamp.org/)\n",
    "* [DataCamp](https://www.datacamp.com/)\n",
    "* [Data to Viz](https://www.data-to-viz.com/#explore)\n",
    "* [Python Graph Gallery](https://python-graph-gallery.com/)\n",
    "\n",
    "### For Official Documentation\n",
    "\n",
    "* [Python](https://docs.python.org/)\n",
    "* [Python Packaging Tool Recommendations](https://packaging.python.org/guides/tool-recommendations/)\n",
    "* [NumPy](https://www.numpy.org/)\n",
    "* [Pandas](http://pandas.pydata.org/)\n",
    "* [Matplotlib](https://matplotlib.org/)\n",
    "* [Seaborn](http://seaborn.pydata.org/)\n",
    "\n",
    "## Topical Resources\n",
    "\n",
    "* [Built-in Python functions](https://docs.python.org/3/library/functions.html#func-range)\n",
    "* [Examples of Itertools in Python 3](https://realpython.com/python-itertools/)\n",
    "* [Python Iterators: A Step-By-Step Introduction](https://dbader.org/blog/python-iterators)\n",
    "* [Comprehending Python’s Comprehensions](https://dbader.org/blog/list-dict-set-comprehensions-in-python)\n",
    "* [Real Python's PyTest Tutorial](https://realpython.com/courses/test-driven-development-pytest/)\n",
    "* [Data to Viz Interactive Diagram](https://www.data-to-viz.com/#explore)\n",
    "* [Data to Viz Visualization Style Tips](https://www.data-to-viz.com/caveats.html)"
   ]
  }
 ],
 "metadata": {},
 "nbformat": 4,
 "nbformat_minor": 2
}
