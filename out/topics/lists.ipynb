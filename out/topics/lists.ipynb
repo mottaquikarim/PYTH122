{
 "cells": [
  {
   "cell_type": "markdown",
   "metadata": {},
   "source": [
    "[![Open In Colab](https://colab.research.google.com/assets/colab-badge.svg)](https://colab.research.google.com/github/mottaquikarim/pycontent/blob/master/.out/topics/lists.ipynb)"
   ]
  },
  {
   "cell_type": "markdown",
   "metadata": {},
   "source": [
    "# Lists\n",
    "\n",
    "In order to begin to truly write dynamic programs, we need to be able to work with data even when we do not know how much we have. Since *variables hold only one item*, Python has some objects that hold collections of data. A **list** object is one of those. **Lists** hold multiple items, called **elements**. List elements can represent any data type, and most, importantly, *a single list can hold any mix of different data types, **including other lists**.*\n",
    "\n",
    "## Creating lists\n",
    "\n",
    "To declare a new list varaible, you have two options -- `[]` or `list()`. The `[]` syntax is a bit more straightforward. If you choose to use the `list()` method, you still have to pass the items to it within `[]` because it will only accept **one** parameter...\n"
   ]
  },
  {
   "cell_type": "code",
   "execution_count": null,
   "metadata": {},
   "outputs": [],
   "source": [
    "# Empty\n",
    "empty1 = []\n",
    "empty2 = list()"
   ]
  },
  {
   "cell_type": "markdown",
   "metadata": {},
   "source": []
  },
  {
   "cell_type": "code",
   "execution_count": null,
   "metadata": {},
   "outputs": [],
   "source": [
    "# Mixed Data Types\n",
    "mix1 = [True, ['seal', 'spider monkey'], 22, 'lion', [False, 13]]\n",
    "mix2 = list([True, ['seal', 'spider monkey'], 22, 'lion', [False, 13]])"
   ]
  },
  {
   "cell_type": "markdown",
   "metadata": {},
   "source": []
  },
  {
   "cell_type": "code",
   "execution_count": null,
   "metadata": {},
   "outputs": [],
   "source": [
    "# Nested List\n",
    "nested1 = [['circus', 'clown'], ['trapeze', 'artist']]\n",
    "nested2 = list([['circus', 'clown'], ['trapeze', 'artist']])"
   ]
  },
  {
   "cell_type": "markdown",
   "metadata": {},
   "source": [
    "\n",
    "The `list()` method can be tricky. Here's what happens if you pass more than one item to it:\n"
   ]
  },
  {
   "cell_type": "code",
   "execution_count": null,
   "metadata": {},
   "outputs": [],
   "source": [
    "colors = list('red', 'yellow', 'green')\n",
    "### TypeError: list() takes at most 1 argument (3 given)"
   ]
  },
  {
   "cell_type": "markdown",
   "metadata": {},
   "source": [
    "Even if you do pass only *one* item, you still have to enclose it with `[]`. If you pass a single number or a single boolean without using brackets, you'll get a `TypeError`.\n"
   ]
  },
  {
   "cell_type": "code",
   "execution_count": null,
   "metadata": {},
   "outputs": [],
   "source": [
    "x = list(100) # or any float e.g. 100.0\n",
    "### TypeError: 'int' object is not iterable\n",
    "\n",
    "y = list(True) # booleans\n",
    "### TypeError: 'bool' object is not iterable"
   ]
  },
  {
   "cell_type": "markdown",
   "metadata": {},
   "source": [
    "And if you pass a string without using brackets, you won't get quite what you want.\n"
   ]
  },
  {
   "cell_type": "code",
   "execution_count": null,
   "metadata": {},
   "outputs": [],
   "source": [
    "z = list('Layla')\n",
    "print(z)\n",
    "# ['L', 'a', 'y', 'l', 'a']"
   ]
  },
  {
   "cell_type": "markdown",
   "metadata": {},
   "source": [
    "And if you think it works for sentences by parsing a new list element at each space character...*nope!*\n"
   ]
  },
  {
   "cell_type": "code",
   "execution_count": null,
   "metadata": {},
   "outputs": [],
   "source": [
    "sentence = list('I like to sing!')\n",
    "print(sentence)\n",
    "# ['I', ' ', 'l', 'i', 'k', 'e', ' ', 't', 'o', ' ', 's', 'i', 'n', 'g', '!']"
   ]
  },
  {
   "cell_type": "markdown",
   "metadata": {},
   "source": [
    "\n",
    "## Accessing Elements in the List\n",
    "\n",
    "The **list index** means the location of each element in the list. List indexes start counting at 0!\n",
    "\n",
    "|  List | \"Brandi\" | \"Zoe\" | \"Steve\" | \"Aleksander\" | \"Dasha\" |\n",
    "|:-----:|:--------:|:-----:|:-------:|:------:|:------:|\n",
    "| Index |     0    |   1   |    2    |    3   |    4   |\n",
    "\n",
    "\n",
    "To access one of them use the syntax `list_name[index_position]`.\n"
   ]
  },
  {
   "cell_type": "code",
   "execution_count": null,
   "metadata": {},
   "outputs": [],
   "source": [
    "my_class = ['Brandi', 'Zoe', 'Steve', 'Aleksander', 'Dasha']\n",
    "print(my_class[0]) # Prints \"Brandi\"\n",
    "print(my_class[1]) # Prints \"Zoe\"\n",
    "print(my_class[4]) # Prints \"Dasha\""
   ]
  },
  {
   "cell_type": "markdown",
   "metadata": {},
   "source": [
    "What if you want to grab a single element from a list nested within a list though? Simply add another level of index selection.\n"
   ]
  },
  {
   "cell_type": "code",
   "execution_count": null,
   "metadata": {},
   "outputs": [],
   "source": [
    "nested_lists = list([['circus', 'clown'], ['trapeze', 'artist']])\n",
    "print(nested_lists[0][0]) # circus\n",
    "print(nested_lists[1][0]) # trapeze"
   ]
  },
  {
   "cell_type": "markdown",
   "metadata": {},
   "source": [
    "\n",
    "The `len()` function will give you the total number of list elements (regardless of data type).\n"
   ]
  },
  {
   "cell_type": "code",
   "execution_count": null,
   "metadata": {},
   "outputs": [],
   "source": [
    "my_class = ['Brandi', 'Zoe', 'Aleksander', 'Dasha']\n",
    "num_students = len(my_class)\n",
    "print(num_students) # 5"
   ]
  },
  {
   "cell_type": "markdown",
   "metadata": {},
   "source": [
    ">>**REMEMBER!** \n",
    ">>Because the index starts at 0, the index position of the last item in the list will NOT be equal to the list's length.\n",
    "\n",
    "If you pass in any list index greater than or equal to the length of the list, you will get an `IndexError`:\n"
   ]
  },
  {
   "cell_type": "code",
   "execution_count": null,
   "metadata": {},
   "outputs": [],
   "source": [
    "print(my_class[num_students])\n",
    "### IndexError: list index out of range"
   ]
  },
  {
   "cell_type": "markdown",
   "metadata": {},
   "source": [
    "Aside from merely finding the length, `len()` comes in handy if you need to dynamically select the last element of a list. Logically, the length of the list minus 1 will give you the index of the last list element, i.e. `index_of_last_element = len(list_name) - 1`.\n"
   ]
  },
  {
   "cell_type": "code",
   "execution_count": null,
   "metadata": {},
   "outputs": [],
   "source": [
    "my_class = ['Brandi', 'Zoe', 'Steve', 'Aleksander', 'Dasha']\n",
    "num_students = len(my_class)\n",
    "\n",
    "# (num_students - 1) is the index of the last element\n",
    "print(my_class[num_students - 1]) # Dasha"
   ]
  },
  {
   "cell_type": "markdown",
   "metadata": {},
   "source": [
    "\n",
    "That brings us to something called **negative indexing**. Because of the above rule, Python allows you to take this shortcut to access the last list element:\n"
   ]
  },
  {
   "cell_type": "code",
   "execution_count": null,
   "metadata": {},
   "outputs": [],
   "source": [
    "print(my_class[-1])"
   ]
  },
  {
   "cell_type": "markdown",
   "metadata": {},
   "source": [
    "Likewise, as you count backwards from the last list element, the negative index extends...\n"
   ]
  },
  {
   "cell_type": "code",
   "execution_count": null,
   "metadata": {},
   "outputs": [],
   "source": [
    "print(f'2nd to last item is {my_class[-2]}')\n",
    "print(f'3rd to last item is {my_class[-3]}')"
   ]
  },
  {
   "cell_type": "markdown",
   "metadata": {},
   "source": [
    "\n",
    "### Selecting Ranges\n",
    "\n",
    "To select multiple items from a list, simply pass the range of indeces which hold the desired elements, e.g. `my_list[2:7]`. It's important to remember that **the upper bound is NOT inclusive**. In other words, if you want the elements at index 3 and index 4, you have to write `[3:5]`. (Likewise, `my_class[1:1]` would print nothing.) \n"
   ]
  },
  {
   "cell_type": "code",
   "execution_count": null,
   "metadata": {},
   "outputs": [],
   "source": [
    "my_class = ['Roxanne', 'Zoe', 'Steve', 'Aleksander', 'Dasha']\n",
    "print(my_class[3:5])"
   ]
  },
  {
   "cell_type": "markdown",
   "metadata": {},
   "source": [
    "Ommitting one or both bounds acts as a shortcut when the length and order of your list might vary. It allows you to say, \"Give me everything from the beginning of the list to index `x`\" or \"Give me everything from index `x` and onward.\"\n"
   ]
  },
  {
   "cell_type": "code",
   "execution_count": null,
   "metadata": {},
   "outputs": [],
   "source": [
    "my_class = ['Roxanne', 'Zoe', 'Steve', 'Aleksander', 'Dasha']\n",
    "\n",
    "print('[:2] -- ', my_class[:2]) # All indeces up to, but NOT including index 2\n",
    "\n",
    "print('[2:] -- ', my_class[2:]) # Index 2 through end of list"
   ]
  },
  {
   "cell_type": "markdown",
   "metadata": {},
   "source": [
    "\n",
    "#### Practice together!\n"
   ]
  },
  {
   "cell_type": "code",
   "execution_count": null,
   "metadata": {},
   "outputs": [],
   "source": [
    "pets = ['dog', 'cat', 'guinea pig', 'ferret', 'bird', 'lizard']\n",
    "\n",
    "# Print index 1:\n",
    "\n",
    "\n",
    "# Print ['guinea pig', 'ferret']:\n",
    "\n",
    "\n",
    "# Print the 5th element:\n",
    "\n",
    "\n",
    "# Print all elements up to and INCLUDING 'ferret':\n",
    "\n",
    "\n",
    "# Print 'dog':\n",
    "\n",
    "\n",
    "# Print all elements from 'ferret' onwards:\n",
    "\n"
   ]
  },
  {
   "cell_type": "markdown",
   "metadata": {},
   "source": [
    "\n",
    "## Built-In Operations for Manipulating Lists\n",
    "\n",
    "### Add Items to a List\n",
    "If you want to add elements to a list, you can use any of the below methods:\n",
    "\n",
    "* `.append()`: adds items to the end of a list in one chunk\n",
    "* `.extend()`: adds items to the end of a list individually\n",
    "* `.insert(index, value)`: adds an item to a specific position in the list\n",
    "* `[index] = value`: adds item to a specific position in the list\n",
    "\n",
    "Let's go through some examples. First, we'll look at the difference between `.append()` and `.extend()`. As mentioned above, `.append()` will add whatever value or group of values you pass it *in one chunk*. In contrast, if you pass a group of values into `.extend()`, it will add *each* element of the group *individually*. \n",
    "\n",
    "**APPEND**\n"
   ]
  },
  {
   "cell_type": "code",
   "execution_count": null,
   "metadata": {},
   "outputs": [],
   "source": [
    "pies = ['apple', 'pumpkin', 'pecan', 'blueberry']\n",
    "more_pies = ['lemon meringue', 'strawberry peach', 'banana cream']\n",
    "\n",
    "pies.append(more_pies)\n",
    "print(f'.append(): {pies}\\n')"
   ]
  },
  {
   "cell_type": "markdown",
   "metadata": {},
   "source": [
    "**EXTEND**\n"
   ]
  },
  {
   "cell_type": "code",
   "execution_count": null,
   "metadata": {},
   "outputs": [],
   "source": [
    "pies = ['apple', 'pumpkin', 'pecan', 'blueberry']\n",
    "more_pies = ['lemon meringue', 'strawberry peach', 'banana cream']\n",
    "\n",
    "pies.extend(more_pies)\n",
    "print(f'.extend(): {pies}')"
   ]
  },
  {
   "cell_type": "markdown",
   "metadata": {},
   "source": [
    "\n",
    "In the next example, take a look at how `.extend()` only considers individual values of the parent list passed in. It still adds the nested lists - `['f', 'g']` and `['h', 'i']` - to our list `x` as their own items.\n"
   ]
  },
  {
   "cell_type": "code",
   "execution_count": null,
   "metadata": {},
   "outputs": [],
   "source": [
    "# APPEND\n",
    "x = ['a', 'b', 'c', 'd']\n",
    "y = ['e', ['f', 'g'], ['h', 'i'], 'j']\n",
    "x.append(y)\n",
    "print(y)\n",
    "# ['a', 'b', 'c', 'd', ['e', ['f', 'g'], ['h', 'i'], 'j']]\n",
    "\n",
    "\n",
    "# EXTEND\n",
    "x = ['a', 'b', 'c', 'd']\n",
    "y = ['e', ['f', 'g'], ['h', 'i'], 'j']\n",
    "x.extend(y)\n",
    "print(x)\n",
    "# ['a', 'b', 'c', 'd', 'e', ['f', 'g'], ['h', 'i'], 'j']"
   ]
  },
  {
   "cell_type": "markdown",
   "metadata": {},
   "source": [
    "\n",
    "#### `.insert(index, value)`\n",
    "\n",
    "If you want to add an item to a specific point in your list, you can pass the desired index and value into `.insert()` as follows.\n"
   ]
  },
  {
   "cell_type": "code",
   "execution_count": null,
   "metadata": {},
   "outputs": [],
   "source": [
    "my_class = ['Brandi', 'Zoe', 'Steve', 'Aleksander', 'Dasha', 'Sonyl']\n",
    "my_class.insert(1, 'Sanju')\n",
    "print(my_class)\n",
    "# ['Brandi', 'Sanju', 'Zoe', 'Steve', 'Aleksander', 'Dasha', 'Sonyl']"
   ]
  },
  {
   "cell_type": "markdown",
   "metadata": {},
   "source": [
    "Whatever you pass into the `value` parameter will be added as a single element though!\n"
   ]
  },
  {
   "cell_type": "code",
   "execution_count": null,
   "metadata": {},
   "outputs": [],
   "source": [
    "my_class = ['Brandi', 'Zoe', 'Steve', 'Aleksander', 'Dasha', 'Sonyl']\n",
    "my_class.insert(1, ['Sanju', 'Reginald'])\n",
    "print(my_class)\n",
    "# ['Brandi', ['Sanju', 'Reginald'], 'Zoe', 'Steve', 'Aleksander', 'Dasha', 'Sonyl']"
   ]
  },
  {
   "cell_type": "markdown",
   "metadata": {},
   "source": [
    "\n",
    "### Remove Items from a List\n",
    "\n",
    "Likewise, you can use `.pop()` or `.pop(index)` to remove any type of element from a list.\n",
    "\n",
    "#### `.pop()`\n",
    "- Removes an item from the end of the list.\n"
   ]
  },
  {
   "cell_type": "code",
   "execution_count": null,
   "metadata": {},
   "outputs": [],
   "source": [
    "my_class = ['Brandi', 'Zoe', 'Steve', 'Aleksander', 'Dasha', 'Sonyl']\n",
    "student_that_left = my_class.pop()\n",
    "print(f'{student_that_left} has left the class.')\n",
    "# Sonyl has left the class.\n",
    "print(my_class)\n",
    "# ['Brandi', 'Zoe', 'Steve', 'Aleksander', 'Dasha']"
   ]
  },
  {
   "cell_type": "markdown",
   "metadata": {},
   "source": [
    "\n",
    "#### `.pop(index)`\n",
    "\n",
    "- Removes an item from the list.\n",
    "- Can take an index.\n"
   ]
  },
  {
   "cell_type": "code",
   "execution_count": null,
   "metadata": {},
   "outputs": [],
   "source": [
    "my_class = ['Brandi', 'Zoe', 'Steve', 'Aleksander', 'Dasha']\n",
    "student_that_left = my_class.pop(2) # Remember to count from 0!\n",
    "print('The student', student_that_left, 'has left the class.')\n",
    "# 'Steve'\n",
    "print(my_class)\n",
    "# => ['Brandi', 'Zoe', 'Aleksander', 'Dasha']"
   ]
  },
  {
   "cell_type": "markdown",
   "metadata": {},
   "source": [
    "\n",
    "### Edit Items in a List\n",
    "\n",
    "#### Update/Replace Items\n",
    "\n",
    "To replace items in a list, you reference them by their index value and simply declare a new value for that element.\n"
   ]
  },
  {
   "cell_type": "code",
   "execution_count": null,
   "metadata": {},
   "outputs": [],
   "source": [
    "x = ['Brandi', 'Sanju', 'Zoe', 'Steve', 'Aleksander', 'Dasha', 'Sonyl']\n",
    "\n",
    "x[1] = 'Raju'\n",
    "x[4:] = ['Chloe', 'Phoebe']\n",
    "print(x)"
   ]
  },
  {
   "cell_type": "markdown",
   "metadata": {},
   "source": [
    "\n",
    "#### Join Items\n",
    "\n",
    "If you need to, you can compile your list items into a single string using `.join()`. You CANNOT do this with lists of numbers, booleans, or a list containing a mix of strings and other data types though.\n"
   ]
  },
  {
   "cell_type": "code",
   "execution_count": null,
   "metadata": {},
   "outputs": [],
   "source": [
    "letters = ['j', 'u', 'l', 'i', 'a', 'n', 'n', 'a']\n",
    "name = ''.join(letters)\n",
    "print(name) # 'julianna'\n",
    "\n",
    "words = ['this', 'is', 'fun']\n",
    "sentence = ' '.join(words)\n",
    "print(f'{sentence}.') # 'this is fun.'"
   ]
  },
  {
   "cell_type": "markdown",
   "metadata": {},
   "source": [
    "\n",
    "#### Split Items\n",
    "\n",
    "Conversely, you can separate a string using `.split('by_char')`, which will parse values out of a string and turn each value into a list item. This one doesn't work for single words you might want to split into individual characters. That said, you *can* specify what character should convey to the method when to split out a new item. By default, `.split('by_char')` will use a space character to split the string.\n"
   ]
  },
  {
   "cell_type": "code",
   "execution_count": null,
   "metadata": {},
   "outputs": [],
   "source": [
    "x = 'this is fun'\n",
    "sentence = x.split() # note - using default split char at space\n",
    "print(sentence) # ['this', 'is', 'fun']\n",
    "\n",
    "y = 'Sandra,hi@email.com,646-212-1234,8 Cherry Lane,Splitsville,FL,58028'\n",
    "data = y.split(',')\n",
    "print(data) # ['Sandra', 'hi@email.com', '646-212-1234', '8 Cherry Lane', 'Splitsville', 'FL', '58028']"
   ]
  },
  {
   "cell_type": "markdown",
   "metadata": {},
   "source": [
    "\n",
    "## Built-in Operators for Analyzing Lists\n",
    "\n",
    "Python has some built-in operations that allow you to analyze the content of a list. Some basic ones include:\n",
    "\n",
    "**`sum()`**: returns the sum of all items in *numerical lists*.\n"
   ]
  },
  {
   "cell_type": "code",
   "execution_count": null,
   "metadata": {},
   "outputs": [],
   "source": [
    "team_batting_avgs = [.328, .299, .208, .301, .275, .226, .253, .232, .287]\n",
    "sum_avgs = sum(team_batting_avgs)\n",
    "print(f'The total of all the batting averages is {sum_avgs}.')"
   ]
  },
  {
   "cell_type": "markdown",
   "metadata": {},
   "source": [
    "**`min()`** & **`max()`**: return the smallest or largest number *in a numerical list*.\n"
   ]
  },
  {
   "cell_type": "code",
   "execution_count": null,
   "metadata": {},
   "outputs": [],
   "source": [
    "team_batting_avgs = [.299, .208, .301, .275, .328, .226, .253, .232, .287]\n",
    "\n",
    "print(f'Highest: {max(team_batting_avgs)}') # .328\n",
    "print(f'Lowest: {min(team_batting_avgs)}') # .208"
   ]
  },
  {
   "cell_type": "markdown",
   "metadata": {},
   "source": [
    "\n",
    "#### `.index()`\n",
    "\n",
    "Given a list element's value, return its index.\n"
   ]
  },
  {
   "cell_type": "code",
   "execution_count": null,
   "metadata": {},
   "outputs": [],
   "source": [
    "sentence = ['a', 'purple', 'pig', 'and', 'a', 'green', 'donkey', 'flew', 'a', 'kite', 'in', 'the', 'middle','of', 'the', 'night', 'and', 'ended', 'up', 'sunburnt']\n",
    "\n",
    "pig_index = sentence.index('pig')\n",
    "print(pig_index)"
   ]
  },
  {
   "cell_type": "markdown",
   "metadata": {},
   "source": [
    "\n",
    "If the element occurs multiple times in the list, `.index()` will only return the index of its *first* occurrence!\n"
   ]
  },
  {
   "cell_type": "code",
   "execution_count": null,
   "metadata": {},
   "outputs": [],
   "source": [
    "sentence = ['a', 'purple', 'pig', 'AND', 'a', 'green', 'donkey', 'flew', 'a', 'kite', 'in', 'the', 'middle','of', 'the', 'night', 'AND', 'ended', 'up', 'sunburnt']\n",
    "\n",
    "and_index = sentence.index('AND')\n",
    "print(and_index) # 3"
   ]
  },
  {
   "cell_type": "markdown",
   "metadata": {},
   "source": [
    "\n",
    "#### `.count()`\n",
    "\n",
    "This returns the number of occurrences of a *single, distinct element* within a list. That means for example, if you're searching a list of words (i.e. strings) for the occurrences of a single letter, only instances where that single letter appears as its own list item will be counted.\n"
   ]
  },
  {
   "cell_type": "code",
   "execution_count": null,
   "metadata": {},
   "outputs": [],
   "source": [
    "nums = [84, 8, 18, 8, 28, 6, 10, 8, 78, 9]\n",
    "print(nums.count(8)) # 3\n",
    "\n",
    "\n",
    "sentence = ['a', 'purple', 'pig', 'and', 'a', 'green', 'donkey', 'flew', 'a', 'kite', 'in', 'the', 'middle','of', 'the', 'night', 'and', 'ended', 'up', 'sunburnt']\n",
    "print(sentence.count('a')) # 3"
   ]
  },
  {
   "cell_type": "markdown",
   "metadata": {},
   "source": [
    "\n",
    "If you want to count the occurrences of a single character within a larger value, you can still use `.count()`...\n"
   ]
  },
  {
   "cell_type": "code",
   "execution_count": null,
   "metadata": {},
   "outputs": [],
   "source": [
    "word = 'sunburnt'\n",
    "print(word.count('u')) # 2"
   ]
  },
  {
   "cell_type": "markdown",
   "metadata": {},
   "source": [
    "\n",
    ">>**GOTCHA!**\n",
    ">>`.count()` throws an error if you try to count the number of times the digit \"2\" appears in the number below. And remember, you CANNOT use the `.split()` method as a workaround because `.split()` only works on strings!\n"
   ]
  },
  {
   "cell_type": "code",
   "execution_count": null,
   "metadata": {},
   "outputs": [],
   "source": [
    "num = 22384232348\n",
    "print(num.count(2))"
   ]
  },
  {
   "cell_type": "markdown",
   "metadata": {},
   "source": [
    "\n",
    "#### Practice Together!\n",
    "\n",
    "Now, take a look at how these list operations work together in this contextual example. Let's say we're conducting a probability experiment with coin tosses. We conduct some number of trials (i.e. the coin tosses) and record the outcomes. Based on the sample below, here's one way to find the probabilities of a \"Heads\" or \"Tails\" outcome.\n"
   ]
  },
  {
   "cell_type": "code",
   "execution_count": null,
   "metadata": {},
   "outputs": [],
   "source": [
    "coin_toss = [True, False, False, False, True, False, True, True, False, False, True, True, False, True]\n"
   ]
  },
  {
   "cell_type": "markdown",
   "metadata": {},
   "source": [
    "### 🏋️‍♀️ **EXERCISES** 🏋️‍♀️ \n",
    "\n",
    "Test your new knowledge with the \"List Ops\" PSET in your copy of `lists_psets.ipynb` in Google Drive.\n",
    "\n",
    "## Sorting Lists\n",
    "\n",
    "If you want to organize your lists better, you can sort them with the `.sort()` or `sorted()` functions. You can sort:\n",
    "\n",
    "* Numbers: ascending and descending order\n",
    "* Strings: alphabetically and reverse alphabetically\n",
    "* You **cannot** sort a list that includes different data types. \n",
    "\n",
    ">**GOTCHA!**\n",
    ">It's important to remember that the `.sort()` method modifies the list *in place*, while the `sorted()` function requires you to assign its result back to the variable.\n",
    "\n",
    "#### `.sort()`\n",
    "\n",
    "The first two examples below illustrate how to sort lists in ascending order/alphabetically using `.sort()`.\n"
   ]
  },
  {
   "cell_type": "code",
   "execution_count": null,
   "metadata": {},
   "outputs": [],
   "source": [
    "numbers = [1, 3, 7, 5, 2, 4, 6]\n",
    "numbers.sort()\n",
    "print(numbers) # [1, 2, 3, 4, 5, 6, 7]\n",
    "\n",
    "\n",
    "letters = ['b', 'e', 'c', 'a', 'd']\n",
    "letters.sort()\n",
    "print(letters) # ['a', 'b', 'c', 'd', 'e']"
   ]
  },
  {
   "cell_type": "markdown",
   "metadata": {},
   "source": [
    "\n",
    "To do this in descending order, simply add `reverse=True` as an argument in `.sort()` like this:\n"
   ]
  },
  {
   "cell_type": "code",
   "execution_count": null,
   "metadata": {},
   "outputs": [],
   "source": [
    "numbers = [1, 3, 7, 5, 2, 4, 6]\n",
    "numbers.sort(reverse = True)\n",
    "print(numbers) # [7, 6, 5, 4, 3, 2, 1]\n",
    "\n",
    "letters = ['b', 'e', 'c', 'a', 'd']\n",
    "letters.sort(reverse = True)\n",
    "print(letters) # ['e', 'd', 'c', 'b', 'a']"
   ]
  },
  {
   "cell_type": "markdown",
   "metadata": {},
   "source": [
    "\n",
    "#### `sorted()`\n",
    "\n",
    "The first two examples below illustrate how to sort lists in **ascending order**/alphabetically using `sorted()`.\n"
   ]
  },
  {
   "cell_type": "code",
   "execution_count": null,
   "metadata": {},
   "outputs": [],
   "source": [
    "numbers = [1, 3, 7, 5, 2, 4, 6]\n",
    "ascending = sorted(numbers)\n",
    "print(ascending) # [1, 2, 3, 4, 5, 6, 7]\n",
    "\n",
    "\n",
    "letters = ['b', 'e', 'c', 'a', 'd']\n",
    "ascending = sorted(letters)\n",
    "print(ascending) # ['a', 'b', 'c', 'd', 'e']"
   ]
  },
  {
   "cell_type": "markdown",
   "metadata": {},
   "source": [
    "\n",
    "To do this in **descending order**, simply add `reverse=True` as an argument in `sorted()` like this:\n"
   ]
  },
  {
   "cell_type": "code",
   "execution_count": null,
   "metadata": {},
   "outputs": [],
   "source": [
    "numbers = [1, 3, 7, 5, 2, 4, 6]\n",
    "descending = sorted(numbers, reverse=True)\n",
    "print(descending) # [7, 6, 5, 4, 3, 2, 1]\n",
    "\n",
    "\n",
    "letters = ['b', 'e', 'c', 'a', 'd']\n",
    "descending = sorted(letters, reverse=True)\n",
    "print(descending) # ['e', 'd', 'c', 'b', 'a']"
   ]
  },
  {
   "cell_type": "markdown",
   "metadata": {},
   "source": [
    "### 🏋️‍♀️ **EXERCISES** 🏋️‍♀️ \n",
    "\n",
    "Take a shot at the \"Sorting\" PSET in your copy of `lists_psets.ipynb` in Google Drive.\n",
    "\n",
    "## Tuples\n",
    "\n",
    "Tuples are a special subset of lists. They are *immutable* in that they cannot be changed after creation. Tuples are denoted with `()` as opposed to `[]`.\n",
    "\n",
    "Similar to lists, you can declare tuples with `tuple()` or just `()`. Again, the former can only take one argument, but is useful when you're creating a tuple from an existing list.\n"
   ]
  },
  {
   "cell_type": "code",
   "execution_count": null,
   "metadata": {},
   "outputs": [],
   "source": [
    "x = ['Taq', 100]\n",
    "score1 = tuple(x)\n",
    "print(score1) # ('Taq', 100) \n",
    "\n",
    "# OR\n",
    "\n",
    "score2 = ('Randy', 101) # ('Randy', 101)\n",
    "print(score2)"
   ]
  },
  {
   "cell_type": "markdown",
   "metadata": {},
   "source": [
    "There is also a third way to create a tuple... simply place a comma between two separate values.\n"
   ]
  },
  {
   "cell_type": "code",
   "execution_count": null,
   "metadata": {},
   "outputs": [],
   "source": [
    "score3 = 'Eliza', 102\n",
    "print(score3) # ('Eliza', 102)"
   ]
  },
  {
   "cell_type": "markdown",
   "metadata": {},
   "source": [
    "\n",
    "We read tuples just like we would read a list:\n"
   ]
  },
  {
   "cell_type": "code",
   "execution_count": null,
   "metadata": {},
   "outputs": [],
   "source": [
    "dna = ('A', 'T'), ('G', 'C')\n",
    "print(dna) # (('A', 'T'), ('G', 'C'))\n",
    "\n",
    "\n",
    "print(dna[0]) # ('A', 'T')\n",
    "print(dna[1][0]) # G"
   ]
  },
  {
   "cell_type": "markdown",
   "metadata": {},
   "source": [
    "\n",
    "You can do SOME operations as long as those operations would not attempt to change the tuple. Since the tuple is immutable, that will throw an error. \n"
   ]
  },
  {
   "cell_type": "code",
   "execution_count": null,
   "metadata": {},
   "outputs": [],
   "source": [
    "tuple1 = (1, 4, 3, 7, 5, 4, 2, 6)\n",
    "\n",
    "print(f'''\n",
    "Length: {len(tuple1)}\n",
    "Sum: {sum(tuple1)}\n",
    "Min: {min(tuple1)}\n",
    "Max: {max(tuple1)}\n",
    "Occurrences of \"4\": {tuple1.count(4)}\n",
    "Index of \"2\": {tuple1.index(2)}\n",
    "''')"
   ]
  },
  {
   "cell_type": "markdown",
   "metadata": {},
   "source": [
    "You can also sort, join, or split a tuple the same as a list, **BUT** because you can't edit a tuple:\n",
    "* You can't use `.sort()` because that edits the object *in place*.\n",
    "* Each of these will return a *new list object*\n",
    "\n",
    "#### Sort \n"
   ]
  },
  {
   "cell_type": "code",
   "execution_count": null,
   "metadata": {},
   "outputs": [],
   "source": [
    "tuple2 = ('b', 'e', 'c', 'a', 'd')\n",
    "\n",
    "sort_asc = sorted(tuple2)\n",
    "print(sort_asc, type(sort_asc)) # ['a', 'b', 'c', 'd', 'e'] <class 'list'>\n",
    "\n",
    "sort_desc = sorted(tuple2, reverse = True)\n",
    "print(sort_desc, type(sort_desc)) # ['e', 'd', 'c', 'b', 'a'] <class 'list'>"
   ]
  },
  {
   "cell_type": "markdown",
   "metadata": {},
   "source": [
    "#### Join\n"
   ]
  },
  {
   "cell_type": "code",
   "execution_count": null,
   "metadata": {},
   "outputs": [],
   "source": [
    "joined = ', '.join(tuple2) # Joined: b, e, c, a, d <class 'str'>\n",
    "print('Joined:', joined, type(joined))"
   ]
  },
  {
   "cell_type": "markdown",
   "metadata": {},
   "source": [
    "#### Split\n"
   ]
  },
  {
   "cell_type": "code",
   "execution_count": null,
   "metadata": {},
   "outputs": [],
   "source": [
    "split_up = joined.split(',') # Split: ['b', ' e', ' c', ' a', ' d'] <class 'list'>\n",
    "print('Split:', split_up, type(split_up))"
   ]
  },
  {
   "cell_type": "markdown",
   "metadata": {},
   "source": [
    "\n",
    "## Sets\n",
    "\n",
    "Sets are special lists in that they can only have **unique** elements. They are denoted with `{}`.\n"
   ]
  },
  {
   "cell_type": "code",
   "execution_count": null,
   "metadata": {},
   "outputs": [],
   "source": [
    "set_1 = {1,2,3,4,5} # this is a set, notice the {}\n",
    "set_2 = {1,1,1,2,2,3,4,5,5,5} # this is still a set\n",
    "print(set_2) # {1,2,3,4,5}\n",
    "\n",
    "print(set_1 == set_2) # True"
   ]
  },
  {
   "cell_type": "markdown",
   "metadata": {},
   "source": [
    "Sets are NOT indexed, so you cannot access, say, the 3rd element in a set. Instead, you can use *boolean membership operators* to check for a value's existence in the set. Remember those?\n"
   ]
  },
  {
   "cell_type": "code",
   "execution_count": null,
   "metadata": {},
   "outputs": [],
   "source": [
    "set_1 = {1,2,3,4,5}\n",
    "\n",
    "print(2 in set_1) # True\n",
    "print(8 in set_1) # False\n",
    "\n",
    "print(2 and 8 in set_1) # False\n",
    "print(2 and 3 in set_1) # True"
   ]
  },
  {
   "cell_type": "markdown",
   "metadata": {},
   "source": [
    "\n",
    "That said, you can still perform mathmetical operations on sets. These are the same examples we used for tuples, and they have the same results... EXCEPT you can't find the index of an element for the reasons we just discussed! And as such, you can't count the number of occurrences of an item in a set.\n"
   ]
  },
  {
   "cell_type": "code",
   "execution_count": null,
   "metadata": {},
   "outputs": [],
   "source": [
    "set1 = (1, 4, 3, 7, 5, 4, 2, 6)\n",
    "\n",
    "print(f'''\n",
    "Length: {len(set1)}\n",
    "Sum: {sum(set1)}\n",
    "Min: {min(set1)}\n",
    "Max: {max(set1)}\n",
    "set1.count(4) won't work\n",
    "set1.index(2) won't work\n",
    "''')"
   ]
  },
  {
   "cell_type": "markdown",
   "metadata": {},
   "source": [
    "\n",
    "You *can also sort, join, or split* a set, **BUT** you have the same limitations as you do with a tuple:\n",
    "* You can't use `.sort()` because that edits the object in place\n",
    "* Each of these will return a *new list object*\n",
    "\n",
    "#### Sort\n"
   ]
  },
  {
   "cell_type": "code",
   "execution_count": null,
   "metadata": {},
   "outputs": [],
   "source": [
    "set2 = {'b', 'e', 'c', 'a', 'd'}\n",
    "\n",
    "sort_asc = sorted(set2)\n",
    "print(sort_asc, type(sort_asc)) # ['a', 'b', 'c', 'd', 'e'] <class 'list'>\n",
    "\n",
    "sort_desc = sorted(set2, reverse = True)\n",
    "print(sort_desc, type(sort_desc)) # ['e', 'd', 'c', 'b', 'a'] <class 'list'>"
   ]
  },
  {
   "cell_type": "markdown",
   "metadata": {},
   "source": [
    "#### Join\n"
   ]
  },
  {
   "cell_type": "code",
   "execution_count": null,
   "metadata": {},
   "outputs": [],
   "source": [
    "joined = ', '.join(set2) # Joined: b, e, c, a, d <class 'str'>\n",
    "print('Joined:', joined, type(joined))"
   ]
  },
  {
   "cell_type": "markdown",
   "metadata": {},
   "source": [
    "#### Split\n"
   ]
  },
  {
   "cell_type": "code",
   "execution_count": null,
   "metadata": {},
   "outputs": [],
   "source": [
    "split_up = joined.split(',') # Split: ['b', ' e', ' c', ' a', ' d'] <class 'list'>\n",
    "print('Split:', split_up, type(split_up))"
   ]
  },
  {
   "cell_type": "markdown",
   "metadata": {},
   "source": [
    ">**Pro Tip!**\n",
    ">Sets give a great way to remove duplicates from a list!\n"
   ]
  },
  {
   "cell_type": "code",
   "execution_count": null,
   "metadata": {},
   "outputs": [],
   "source": [
    "my_list = [1,2,4,5,2,3,1,4,5,1,5,3]\n",
    "\n",
    "uniques_in_my_list = set(my_list)\n",
    "print(uniques_in_my_list) # {1, 2, 3, 4, 5}\n",
    "\n",
    "my_list = list(uniques_in_my_list)\n",
    "print(my_list) # [1, 2, 3, 4, 5]"
   ]
  },
  {
   "cell_type": "markdown",
   "metadata": {},
   "source": [
    "\n",
    "Here's a **[helpful list](https://snakify.org/en/lessons/sets/#section_4)** of other set operations.\n",
    "\n",
    "### 🏋️‍♀️ **EXERCISES** 🏋️‍♀️ \n",
    "\n",
    "Complete the \"List Manipulation\" PSET in your copy of `lists_psets.ipynb` in Google Drive. Then, try to solve the \"List Challenges\" PSET.\n",
    "\n",
    "## Summary\n",
    "\n",
    "<img src=\"https://github.com/mottaquikarim/PYTH2/blob/master/assets/Lists_Summary.png?raw=true\" width=\"100%\" align=\"left\"/>\n"
   ]
  }
 ],
 "metadata": {},
 "nbformat": 4,
 "nbformat_minor": 2
}
