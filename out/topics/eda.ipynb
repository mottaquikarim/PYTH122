{
 "cells": [
  {
   "cell_type": "markdown",
   "metadata": {},
   "source": [
    "[![Open In Colab](https://colab.research.google.com/assets/colab-badge.svg)](https://colab.research.google.com/github/mottaquikarim/pycontent/blob/master/.out/topics/eda.ipynb)"
   ]
  },
  {
   "cell_type": "markdown",
   "metadata": {},
   "source": [
    "# Basic EDA (Exploratory Data Analysis)\n",
    "\n",
    "### Import\n"
   ]
  },
  {
   "cell_type": "code",
   "execution_count": null,
   "metadata": {},
   "outputs": [],
   "source": [
    "import pandas as pd\n",
    "import numpy as np\n",
    "print('import successful')"
   ]
  },
  {
   "cell_type": "markdown",
   "metadata": {},
   "source": [
    "\n",
    "Load the data with `imdbID` as the index and make a copy.\n"
   ]
  },
  {
   "cell_type": "code",
   "execution_count": null,
   "metadata": {},
   "outputs": [],
   "source": [
    "omdb_orig = pd.read_csv('https://raw.githubusercontent.com/mottaquikarim/pycontent/master/content/raw_data/omdb4500_eda.csv', index_col='imdbID')\n",
    "movies = omdb_orig.copy()\n",
    "print('data loaded successfully')"
   ]
  },
  {
   "cell_type": "markdown",
   "metadata": {},
   "source": [
    "\n",
    "For simplicity's sake, we want only one value for Genres, Languages, and Country. Run these cells to temporarily change that in the movies dataframe. Note that we're renaming the former two columns to make them singular.\n"
   ]
  },
  {
   "cell_type": "code",
   "execution_count": null,
   "metadata": {},
   "outputs": [],
   "source": [
    "def single_val(v):\n",
    "    x = v.replace(' ', '')\n",
    "    y = x.split(',')\n",
    "    z = y[0]\n",
    "    return z\n",
    "\n",
    "g = movies['Genres'].iloc[:10] \n",
    "g = g.apply(single_val)\n",
    "g"
   ]
  },
  {
   "cell_type": "markdown",
   "metadata": {},
   "source": []
  },
  {
   "cell_type": "code",
   "execution_count": null,
   "metadata": {},
   "outputs": [],
   "source": [
    "movies['Genres'] = movies['Genres'].apply(single_val)\n",
    "movies['Languages'] = movies['Languages'].apply(single_val)\n",
    "movies['Country'] = movies['Country'].apply(single_val)\n",
    "movies.rename(columns={'Genre': 'Genre', 'Language': 'Language'}, inplace=True)\n",
    "movies.head(10)"
   ]
  },
  {
   "cell_type": "markdown",
   "metadata": {},
   "source": [
    "\n",
    "## Summary & Descriptive Statistics\n",
    "\n",
    "We'll start by defining some basic stats terms. When speaking about data, a **population** encompasses the *entire* set of items you're interested in, while a **sample** consists of a subset of those items. This is analagous to the difference between all the movies ever made (population) and the movies in our OMDb dataset (sample). Obtaining data on complete populations usually isn't feasible, so most statistical analyses are based on samples.\n",
    "\n",
    "The heart of every quantitative analysis lies in the data's **descriptive statistics.** Descriptive statistics briefly summarize the data to help understand its makeup and organization. **Histograms** often accompany descriptive statistics to help provide visual context about the measure's relation to the dataset as a whole. \n",
    "\n",
    "<img src=\"https://plot.ly/static/img/literacy/fig5.gif\" style=\"margin: 0 auto;\"/>\n",
    "*Image from Plotly: https://help.plot.ly/histogram/#what-is-a-histogram*\n",
    "\n",
    "Generally speaking, histograms represent \"how frequently or infrequently certain values occur in a given set of data.\" In other words, they visualize the **distribution** of the data.\n",
    "\n",
    "## Describing Data in Pandas\n",
    "\n",
    "In a Pandas dataframe, each row represents an item in your sample space, and each column is a variable representing some numerical or categorical characteristic of the items. Thus, each column will have its own set of descriptive statistics. Below is a quick overview of Pandas Series methods that return basic descriptive statistics for each column, or variable...\n",
    "\n",
    "* **`.describe(include=np.object)`** -- returns count, mean, standard deviation, min, max, & IQR (interquartile range)\n",
    "    * *only includes numerical columns by default*\n",
    "\n",
    "^^ We'll define most of these individually below in the context of some of the OMDb variables!\n",
    "\n",
    "### Averages\n",
    "\n",
    "* **`s.mean()`** -- the simple average; \n",
    "    * *Downside is that it's greatly affected by outliers in the data!*\n",
    "* **`s.median()`** -- in a lineup of ordinal data, the median is the middle number or category\n",
    "* **`s.mode()`** -- the number or category that occurs most often in the dataset\n",
    "    * Notice that even if this only returns one value, it returns a Series object\n"
   ]
  },
  {
   "cell_type": "code",
   "execution_count": null,
   "metadata": {},
   "outputs": [],
   "source": [
    "imdb_ratings = movies['imdbRating']\n",
    "\n",
    "mean_imdb = imdb_ratings.mean()\n",
    "median_imdb = imdb_ratings.median()\n",
    "mode_imdb = imdb_ratings.mode()\n",
    "\n",
    "print(f'''\n",
    "MEAN: {mean_imdb}, \n",
    "type = {type(mean_imdb)}\n",
    "\n",
    "MEDIAN: {median_imdb}, \n",
    "type = {type(median_imdb)}''')\n",
    "\n",
    "print(f'''\n",
    "MODE: {mode_imdb}, \n",
    "type = {type(mode_imdb)}''')"
   ]
  },
  {
   "cell_type": "markdown",
   "metadata": {},
   "source": [
    "\n",
    "### Ranges\n",
    "\n",
    "* **`s.min()`** -- minimum; smallest value in the variable's data\n",
    "* **`s.max()`** -- maximum; largest value in the variable's data\n",
    "* *range* -- max value minus the min value\n",
    "* **`s.quantile(q=0.5)`** -- return value at the given quantile q, where 0 <= q <= 1\n",
    "\n",
    "Most often, people speak of \"quartiles\" which divide the data into 4 equal parts, each containing 25% of the data. As you can see below, the 2nd quartile is always the median.\n",
    "\n",
    "<img src=\"../images/quartiles.png\" style=\"margin: 0 auto;\"/>\n",
    "\n",
    "People use the **IQR (Interquartile Range)** to describe the middle two quartiles of data. You calculate by taking the difference between the 3rd quartile and the 1st quartile. It's more useful than the regular range *because it excludes outliers*, which can skew your analysis.\n",
    "\n",
    "Examine how quartiles overlap with other key statistical measures within the context of the `imdbRating` variable:\n"
   ]
  },
  {
   "cell_type": "code",
   "execution_count": null,
   "metadata": {},
   "outputs": [],
   "source": [
    "imdbRating_quantiles = movies['imdbRating'].quantile(q=[0, 0.25, 0.5, 0.75, 1])\n",
    "imdbRating_quantiles"
   ]
  },
  {
   "cell_type": "markdown",
   "metadata": {},
   "source": [
    "\n",
    "Here we construct a dataframe to label these values contextually:\n"
   ]
  },
  {
   "cell_type": "code",
   "execution_count": null,
   "metadata": {},
   "outputs": [],
   "source": [
    "imdb_quartiles = pd.DataFrame(index=['Min', '1st Quartile', '2nd Quartile (aka Median)', '3rd Quartile', 'Max'])\n",
    "imdb_quartiles['Quantile'] = imdbRating_quantiles.index.values\n",
    "imdb_quartiles['Value per imdbRating'] = imdbRating_quantiles.values\n",
    "imdb_quartiles"
   ]
  },
  {
   "cell_type": "markdown",
   "metadata": {},
   "source": [
    "\n",
    "Finally, we calculate the IQR:\n"
   ]
  },
  {
   "cell_type": "code",
   "execution_count": null,
   "metadata": {},
   "outputs": [],
   "source": [
    "imdb_iqr = imdb_ratings.quantile(0.75) - imdb_ratings.quantile(0.25)\n",
    "print(f'imdbRating IQR = {imdb_iqr}')"
   ]
  },
  {
   "cell_type": "markdown",
   "metadata": {},
   "source": [
    "\n",
    "### Relative Frequency\n",
    "\n",
    "We already know about using `s.value_counts()` to obtain a count of each unique value within a Series object, but did you know that we can also get percentages from it? This method has a parameter called `normalize`, which is set to `False` by default. However, when you set it to `True`...\n",
    "\n",
    "**`s.value_counts(normalize=True)`** -- returns percentages that represent each unique value's relative frequency within the data\n",
    "\n",
    "Take a look at the percentage of movies made by each of the top 10 directors\n"
   ]
  },
  {
   "cell_type": "code",
   "execution_count": null,
   "metadata": {},
   "outputs": [],
   "source": [
    "movies['Director'].value_counts(normalize=True).nlargest(10)"
   ]
  },
  {
   "cell_type": "markdown",
   "metadata": {},
   "source": [
    "\n",
    "### Practice with Basic Descriptive Stats\n",
    "\n",
    "#### 1) What's the longest movie?\n"
   ]
  },
  {
   "cell_type": "code",
   "execution_count": null,
   "metadata": {},
   "outputs": [],
   "source": []
  },
  {
   "cell_type": "markdown",
   "metadata": {},
   "source": [
    "\n",
    "#### 2) What's the IQR of Metascore?\n"
   ]
  },
  {
   "cell_type": "code",
   "execution_count": null,
   "metadata": {},
   "outputs": [],
   "source": []
  },
  {
   "cell_type": "markdown",
   "metadata": {},
   "source": [
    "\n",
    "#### 3) What's the percent difference between the average critic rating and the average audience rating (i.e. Rotten Tomatoes and imdbRating)? \n"
   ]
  },
  {
   "cell_type": "code",
   "execution_count": null,
   "metadata": {},
   "outputs": [],
   "source": []
  },
  {
   "cell_type": "markdown",
   "metadata": {},
   "source": [
    "\n",
    "#### 4) What country has produced the most movies?\n"
   ]
  },
  {
   "cell_type": "code",
   "execution_count": null,
   "metadata": {},
   "outputs": [],
   "source": []
  },
  {
   "cell_type": "markdown",
   "metadata": {},
   "source": [
    "\n",
    "#### 5) What span of years do the movies in our sample cover?\n"
   ]
  },
  {
   "cell_type": "code",
   "execution_count": null,
   "metadata": {},
   "outputs": [],
   "source": []
  },
  {
   "cell_type": "markdown",
   "metadata": {},
   "source": [
    "\n",
    "\n",
    "## Functions Featured\n",
    "\n",
    "* **`.describe(include=np.object)`** -- returns count, mean, standard deviation, min, max, & IQR (interquartile range)\n",
    "    * *only includes numerical columns by default*\n",
    "* **`s.mean()`** -- the simple average; \n",
    "    * *Downside is that it's greatly affected by outliers in the data!*\n",
    "* **`s.median()`** -- in a lineup of ordinal data, the median is the middle number or category\n",
    "* **`s.mode()`** -- the number or category that occurs most often in the dataset\n",
    "* **`s.min()`** -- minimum; smallest value in the variable's data\n",
    "* **`s.max()`** -- maximum; largest value in the variable's data\n",
    "* *range* -- max value minus the min value\n",
    "* **`s.quantile(q=0.5)`** -- return value at the given quantile q, where 0 <= q <= 1\n",
    "* *IQR (Interquartile Range)* -- (3rd quartile minus 1st quartile)\n",
    "* **`s.value_counts(normalize=False, sort=True, ascending=False, dropna=True)`** -- return a Series containing counts -- or, if normalize=True, relative frequencies -- of unique values\n",
    "\n"
   ]
  }
 ],
 "metadata": {},
 "nbformat": 4,
 "nbformat_minor": 2
}
