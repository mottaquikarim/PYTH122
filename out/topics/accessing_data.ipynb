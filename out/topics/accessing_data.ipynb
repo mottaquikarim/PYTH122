{
 "cells": [
  {
   "cell_type": "markdown",
   "metadata": {},
   "source": [
    "[![Open In Colab](https://colab.research.google.com/assets/colab-badge.svg)](https://colab.research.google.com/github/mottaquikarim/pycontent/blob/master/.out/topics/accessing_data.ipynb)"
   ]
  },
  {
   "cell_type": "markdown",
   "metadata": {},
   "source": [
    "# Accessing Data\n",
    "\n",
    "## **Core Objectives**\n",
    "\n",
    "You can't analyze your data unless you understand how to select exactly which pieces of data you want. This lesson focuses on how to:\n",
    "\n",
    "* Load and save data to and from your notebook\n",
    "* Access a summary or a preview of the dataset\n",
    "* Reference data using index positions vs. index labels\n",
    "* Select single values and subsets of a Series\n",
    "* Select a single column, row, or cell in a dataframe\n",
    "* Select a slice of rows or columns in a dataframe\n",
    "* Select a chunk of a dataframe\n",
    "\n",
    "Over the next several lessons, we're going to use a dataset containing movie metadata that we pulled from the [OMDb API](http://www.omdbapi.com/). In this section, we'll use a subset of that data for simplicity's sake. This subset will include three fields: imdbID, Title, and Year.\n",
    "\n",
    "## Reading & Writing Data\n",
    "\n",
    "Before we can even load this data, we have to import the necessary libraries.\n"
   ]
  },
  {
   "cell_type": "code",
   "execution_count": null,
   "metadata": {},
   "outputs": [],
   "source": [
    "import numpy as np\n",
    "import pandas as pd"
   ]
  },
  {
   "cell_type": "markdown",
   "metadata": {},
   "source": [
    "Reading and writing data to and from your notebook primarily relies on the format and location of your data. The general syntax is:\n",
    "\n",
    "* **Read:** `pd.read_<format>(<path>)`\n",
    "* **Write:** `obj.to_<format>(<path>)` (`obj` is the var name of the object you're saving)\n",
    "\n",
    "*Notice how saving your data uses obj.to_<format> and NOT obj.write_.* For the syntax of how to load the most common data types, you can reference the \"Reading & Writing Data\" section of our [Pandas Cheat Sheet](https://mottaquikarim.github.io/PYTH122/#out/resources/pandas_cheat_sheet).\n",
    "\n",
    "There are a number of **optional parameters** you might want or need to use. A quick exaplanation of the most useful ones are:\n",
    "\n",
    "* `sep`: By default, ','\n",
    "You can specify the character that delimits the values so that Pandas can recognize it.\n",
    "* `header`: By default, Pandas infers the headers.\n",
    "If you know there is no header row, you should pass `False` and pass a list of column names to the `names` parameter.\n",
    "* `names`: (see \"header\" above)\n",
    "* `index_col`: By default, `None` and Pandas will use a 0-based numerical index for the `Index` labels. If you want to use one (or more) of the columns as the index for axis 0 (the rows), specify them here.\n",
    "* `usecols`: If you want only a subset of columns loaded, indicate which ones here.\n",
    "* `nrows`: By default, Pandas loads the full file. If you want only a subset of the data, you can specify a number of rows to load.\n",
    "\n",
    "#### Loading the OMDb Dataset\n",
    "\n",
    "Since this is our first time looking at it, let's load the OMDb dataset as is. \n"
   ]
  },
  {
   "cell_type": "code",
   "execution_count": null,
   "metadata": {},
   "outputs": [],
   "source": [
    "omdb_orig = pd.read_csv('https://raw.githubusercontent.com/mottaquikarim/pycontent/master/content/raw_data/omdb_subset.csv')\n",
    "movies = omdb_orig.copy()"
   ]
  },
  {
   "cell_type": "markdown",
   "metadata": {},
   "source": [
    "\n",
    "It's also a helpful practice to immediately make a hard copy of the dataset so that, at any time, you can compare your data to the original dataset. You can make a shallow copy (see below), but it's always better to make a hard copy with the `.copy()` method.\n",
    "\n",
    ">> Warning! [SettingWithCopyWarning](https://www.dataquest.io/blog/settingwithcopywarning/)\n",
    "\n",
    "## Summary Data & Metadata\n",
    "\n",
    "Typically, the first thing you'll want to do is use the `.info()` method to see a summary of the data in your dataframe. This will tell you things like how many rows there are, what datatype each column Series contains, and how many non-null values are in each column. Note that Series objects do NOT have this attribute.\n"
   ]
  },
  {
   "cell_type": "code",
   "execution_count": null,
   "metadata": {},
   "outputs": [],
   "source": [
    "movies.info()"
   ]
  },
  {
   "cell_type": "markdown",
   "metadata": {},
   "source": [
    "Sometimes you'll want to grab some of this information individually though. To return all the column names, you can use `.columns`... \n"
   ]
  },
  {
   "cell_type": "code",
   "execution_count": null,
   "metadata": {},
   "outputs": [],
   "source": [
    "movies.columns"
   ]
  },
  {
   "cell_type": "markdown",
   "metadata": {},
   "source": [
    "\n",
    "...and `len(df)` returns the number of rows in a dataframe. For a Series, `len(series)` gives the number of items in the array. Similarly, `.size` and `.shape` give the number of elements in the object and the dimensions of the object. Check these out:\n"
   ]
  },
  {
   "cell_type": "code",
   "execution_count": null,
   "metadata": {},
   "outputs": [],
   "source": [
    "print(\n",
    "'Length:', len(movies), \n",
    "'\\nSize:', movies.size, \n",
    "'\\nShape:', movies.shape\n",
    ")"
   ]
  },
  {
   "cell_type": "markdown",
   "metadata": {},
   "source": [
    "\n",
    "By now, you'll probably want to preview the data itself. `.head(n)` and `.tail(n)` will return the first and last *n* rows of data respectively. If you don't pass in a number, they will both return 5 rows by default. You can use `.head()` and `.tail()` on Series objects as well.\n"
   ]
  },
  {
   "cell_type": "code",
   "execution_count": null,
   "metadata": {},
   "outputs": [],
   "source": [
    "movies.head() "
   ]
  },
  {
   "cell_type": "markdown",
   "metadata": {},
   "source": []
  },
  {
   "cell_type": "code",
   "execution_count": null,
   "metadata": {},
   "outputs": [],
   "source": [
    "movies.tail(3) "
   ]
  },
  {
   "cell_type": "markdown",
   "metadata": {},
   "source": [
    "\n",
    "Now, it would be very intuitive for us to use the `Title` column for index labels, but you can easily see that it's not unique:\n"
   ]
  },
  {
   "cell_type": "code",
   "execution_count": null,
   "metadata": {},
   "outputs": [],
   "source": [
    "movies['Title'].is_unique"
   ]
  },
  {
   "cell_type": "markdown",
   "metadata": {},
   "source": [
    "\n",
    "The `imdbID` column is though. Especially because IMDb is the most well-known movie database, we should use `imdbID` as the index. That way we can access each movie via its imdbID label.\n"
   ]
  },
  {
   "cell_type": "code",
   "execution_count": null,
   "metadata": {},
   "outputs": [],
   "source": [
    "print('Is imdbID unique?', movies['imdbID'].is_unique)\n",
    "\n",
    "movies.set_index(['imdbID'], drop=True, inplace=True)\n",
    "movies.head(3)"
   ]
  },
  {
   "cell_type": "markdown",
   "metadata": {},
   "source": [
    "\n",
    "By default, the `drop` parameter in the `.set_index()` function is `True`. As you can see above, `imdbID` no longer exists as a column in the dataframe. It has been converted into an `Index` object.\n",
    "\n",
    ">>**NOTE!** If we wanted, we could have set `imdbID` as the index upon loading the files by passing `index_col='imdbID'` to our `pd.read_csv()` function.\n"
   ]
  },
  {
   "cell_type": "code",
   "execution_count": null,
   "metadata": {},
   "outputs": [],
   "source": [
    "imdbID = movies.index\n",
    "type(imdbID)"
   ]
  },
  {
   "cell_type": "markdown",
   "metadata": {},
   "source": [
    "\n",
    "If you ever want to go back to the default numerical `Index` labels, you can use `.reset_index()`. It will simply add the custom `Index` object back to the dataframe as a column Series.\n"
   ]
  },
  {
   "cell_type": "code",
   "execution_count": null,
   "metadata": {},
   "outputs": [],
   "source": [
    "movies.reset_index(inplace=True)\n",
    "movies.tail()"
   ]
  },
  {
   "cell_type": "markdown",
   "metadata": {},
   "source": [
    "\n",
    "Now, let's set the index back to `imdbID`.\n"
   ]
  },
  {
   "cell_type": "code",
   "execution_count": null,
   "metadata": {},
   "outputs": [],
   "source": [
    "movies.set_index(['imdbID'], inplace=True)"
   ]
  },
  {
   "cell_type": "markdown",
   "metadata": {},
   "source": [
    "\n",
    "## Selecting Data\n",
    "\n",
    "Dataframe columns are the easiest and most flexible pieces of data to select and maneuver.\n",
    "\n",
    "Return a single column as a Series:\n"
   ]
  },
  {
   "cell_type": "code",
   "execution_count": null,
   "metadata": {},
   "outputs": [],
   "source": [
    "print(type(movies['Title']), '\\n')\n",
    "titles = movies['Title']\n",
    "titles"
   ]
  },
  {
   "cell_type": "markdown",
   "metadata": {},
   "source": [
    "\n",
    "Return a subset of columns (in any order) as a new DataFrame:\n"
   ]
  },
  {
   "cell_type": "code",
   "execution_count": null,
   "metadata": {},
   "outputs": [],
   "source": [
    "movies[['Title']] # NOT a Series object, but a one column Series"
   ]
  },
  {
   "cell_type": "markdown",
   "metadata": {},
   "source": [
    "\n",
    "For most other pieces of data that you want to select, you will use some variation of `.loc[]` or `.iloc[]`. It's vital to understand the difference between these two functions: \n",
    "\n",
    "* **`.loc[]`** selects and returns data by passing index **LABELS** as arguments; ranges are *inclusive* (i.e. .loc[0:10] will select rows 0 to 10)\n",
    "* **`.iloc[]`** selects and returns data by passing index **POSITIONS** as arguments; ranges are *exclusive* (i.e. .iloc[0:10] will select rows 0 to 9)\n",
    "\n",
    "### **Single Value in a Series**\n",
    "\n",
    "Select a single value in a Series by its index label\n"
   ]
  },
  {
   "cell_type": "code",
   "execution_count": null,
   "metadata": {},
   "outputs": [],
   "source": [
    "titles.loc['tt1302006']"
   ]
  },
  {
   "cell_type": "markdown",
   "metadata": {},
   "source": [
    "\n",
    "Select a single value in a Series by its index position\n"
   ]
  },
  {
   "cell_type": "code",
   "execution_count": null,
   "metadata": {},
   "outputs": [],
   "source": [
    "titles.iloc[516]"
   ]
  },
  {
   "cell_type": "markdown",
   "metadata": {},
   "source": [
    "\n",
    "### **Single Row**\n",
    "\n",
    "Select a single row by its label\n"
   ]
  },
  {
   "cell_type": "code",
   "execution_count": null,
   "metadata": {},
   "outputs": [],
   "source": [
    "movies.loc['tt0088763']"
   ]
  },
  {
   "cell_type": "markdown",
   "metadata": {},
   "source": [
    "\n",
    "Select a single row by its index position\n"
   ]
  },
  {
   "cell_type": "code",
   "execution_count": null,
   "metadata": {},
   "outputs": [],
   "source": [
    "movies.iloc[112]"
   ]
  },
  {
   "cell_type": "markdown",
   "metadata": {},
   "source": [
    "\n",
    "### **Single DataFrame Cell**\n",
    "\n",
    "**Select a single cell in a DataFrame by row & column labels**\n",
    "\n",
    ">>movies['Title'][:5]\n"
   ]
  },
  {
   "cell_type": "code",
   "execution_count": null,
   "metadata": {},
   "outputs": [],
   "source": [
    "movies.loc['tt0088763', 'Year']"
   ]
  },
  {
   "cell_type": "markdown",
   "metadata": {},
   "source": [
    "\n",
    "Select a single cell in a DataFrame by row & column index positions\n"
   ]
  },
  {
   "cell_type": "code",
   "execution_count": null,
   "metadata": {},
   "outputs": [],
   "source": [
    "movies.iloc[112, 0]"
   ]
  },
  {
   "cell_type": "markdown",
   "metadata": {},
   "source": [
    "\n",
    "### **Subset of a Series**\n",
    "\n",
    "Returns a subset of a Series by entering a range of labels\n"
   ]
  },
  {
   "cell_type": "code",
   "execution_count": null,
   "metadata": {},
   "outputs": [],
   "source": [
    "titles.loc['tt1302006':'tt1025100']"
   ]
  },
  {
   "cell_type": "markdown",
   "metadata": {},
   "source": [
    "\n",
    "Returns a subset of a Series by entering a range of index positions\n"
   ]
  },
  {
   "cell_type": "code",
   "execution_count": null,
   "metadata": {},
   "outputs": [],
   "source": [
    "titles.iloc[4870:4875]"
   ]
  },
  {
   "cell_type": "markdown",
   "metadata": {},
   "source": [
    "\n",
    "### **Slice of Rows**\n",
    "\n",
    "Returns a *slice* of rows as a new DataFrame by entering a range of labels\n"
   ]
  },
  {
   "cell_type": "code",
   "execution_count": null,
   "metadata": {},
   "outputs": [],
   "source": [
    "movies.loc['tt1302006':'tt1025100']"
   ]
  },
  {
   "cell_type": "markdown",
   "metadata": {},
   "source": [
    "\n",
    "Returns a *slice* of rows as a new DataFrame by entering a range of index positions\n"
   ]
  },
  {
   "cell_type": "code",
   "execution_count": null,
   "metadata": {},
   "outputs": [],
   "source": [
    "movies.iloc[4870:4875]"
   ]
  },
  {
   "cell_type": "markdown",
   "metadata": {},
   "source": [
    "\n",
    "Returns a *slice* of rows as a new DataFrame by entering an unordered group of labels (also works with `.iloc()` and a list of index positions).\n"
   ]
  },
  {
   "cell_type": "code",
   "execution_count": null,
   "metadata": {},
   "outputs": [],
   "source": [
    "labels = ['tt1302006', 'tt0088763', 'tt1025100', 'tt1396484', 'tt4972582']\n",
    "movies.loc[labels]"
   ]
  },
  {
   "cell_type": "markdown",
   "metadata": {},
   "source": [
    "\n",
    "### **Chunk of a Dataframe**\n",
    "\n",
    "Select a chunk of a DataFrame by entering a range of row and column labels\n"
   ]
  },
  {
   "cell_type": "code",
   "execution_count": null,
   "metadata": {},
   "outputs": [],
   "source": [
    "movies.loc['tt4972582':'tt1396484','Title':'Year']"
   ]
  },
  {
   "cell_type": "markdown",
   "metadata": {},
   "source": [
    "\n",
    "Select a slice of a DataFrame by entering a range of row and column index positions\n"
   ]
  },
  {
   "cell_type": "code",
   "execution_count": null,
   "metadata": {},
   "outputs": [],
   "source": [
    "movies.iloc[4870:4875,0:1]"
   ]
  },
  {
   "cell_type": "markdown",
   "metadata": {},
   "source": [
    "\n",
    "## Key Takeaways\n",
    "\n",
    "* A data dictionary documents metadata for a dataset by defining each column\n",
    "* The general syntax for reading (i.e. loading) data is `pd.read_<format>(<path>)`\n",
    "* The general syntax for writing (i.e. saving) data is `pd.to_<format>(<path>)`\n",
    "* Use the `.info()` method to see a summary of the data in your dataframe. Series objects do NOT have this attribute.\n",
    "* `.head(n)` and `.tail(n)` return the first and last *n* elements of an object respectively. (i.e. values for a Series and rows for a Dataframe)\n",
    "* `.set_index(data, drop=True)` allows you to assign custom index labels to a Series or dataframe\n",
    "* `.loc[]` selects and returns data by passing index **LABELS** as arguments\n",
    "* `.iloc[]` selects and returns data by passing index **POSITIONS** as arguments\n",
    "\n",
    "## 🏋️‍♀️ **EXERCISES** 🏋️‍♀️ \n",
    "\n",
    "Get your hands dirty by exploring the data in your copy of `taqueria_pset1.ipynb` in Google Drive."
   ]
  }
 ],
 "metadata": {},
 "nbformat": 4,
 "nbformat_minor": 2
}
