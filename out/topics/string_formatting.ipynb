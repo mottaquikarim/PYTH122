{
 "cells": [
  {
   "cell_type": "markdown",
   "metadata": {},
   "source": [
    "[![Open In Colab](https://colab.research.google.com/assets/colab-badge.svg)](https://colab.research.google.com/github/mottaquikarim/pycontent/blob/master/.out/topics/string_formatting.ipynb)"
   ]
  },
  {
   "cell_type": "markdown",
   "metadata": {},
   "source": [
    "# String Formatting\n",
    "\n",
    "Because the content of a string can vary so much, Python has several features that make handling them much easier. In this section, we'll learn about:\n",
    "\n",
    "* Escape Characters\n",
    "* f-Strings\n",
    "* Stripping Extra Spaces\n",
    "* User Input\n",
    "\n",
    "## Escape Characters\n",
    "\n",
    "Python has defined certain **escape characters** that will NOT be read literally when placed inside a string. Instead, they tell Python to insert a character in a special way. For example, since strings can be enclosed by single or double quotes, what happens when you need to use one of those within the string? Python will get confused as to where you want your string to start and end! That's where the `\\'` and `\\\"` escape characters come in.\n"
   ]
  },
  {
   "cell_type": "code",
   "execution_count": null,
   "metadata": {},
   "outputs": [],
   "source": [
    "demeanor = 'Layla\\'s mischievous, but very sweet!'\n",
    "print(demeanor)\n",
    "\n",
    "\n",
    "sound = \"Layla says \\\"Meow\\\"!\"\n",
    "print(sound)"
   ]
  },
  {
   "cell_type": "markdown",
   "metadata": {},
   "source": [
    "\n",
    "The `\\n` escape character tells Python to start a new line before displaying the rest of the string. \n"
   ]
  },
  {
   "cell_type": "code",
   "execution_count": null,
   "metadata": {},
   "outputs": [],
   "source": [
    "print('Layla:\\nMaine Coon\\n8 years old\\n10.5 lb')"
   ]
  },
  {
   "cell_type": "markdown",
   "metadata": {},
   "source": [
    "\n",
    "## f-Strings\n",
    "\n",
    "Python supports a feature called **f-strings** that enables dynamic formatting of strings. By placing \"f\" before a string, it notifies Python to interpret the string dynamically based on the rules and syntax of f-string formatting. Without the \"f\", Python will interpret the string literally. Here are some of the most common use cases:\n",
    "\n",
    "### Multi-Line Strings\n",
    "\n",
    "Using `\\n` will let you tell Python to split your string into multiple lines when printed. Using an f-string makes the text more readable within your code as well. For a multi-line f-string, you need to enclose your string in triple `'''` or `\"\"\"`. Let's say you're storing song lyrics, so you want to have a line break between each line of the song. \n"
   ]
  },
  {
   "cell_type": "code",
   "execution_count": null,
   "metadata": {},
   "outputs": [],
   "source": [
    "print('Cause if you liked it, then you should have put a ring on it\\nIf you liked it, then you should have put a ring on it\\nDon\\'t be mad once you see that he want it\\nIf you liked it, then you should have put a ring on it')\n",
    "\n",
    "print(f'''\n",
    "'Cause if you liked it, then you should have put a ring on it\n",
    "If you liked it, then you should have put a ring on it\n",
    "Don't be mad once you see that he want it\n",
    "If you liked it, then you should have put a ring on it\n",
    "''')"
   ]
  },
  {
   "cell_type": "markdown",
   "metadata": {},
   "source": [
    "\n",
    ">**Remember!**\n",
    "> If you use triples quotes *without* the \"f\", you're creating a multi-line *comment*, which won't print out.\n",
    "\n",
    "#### Insert Variables in a String\n",
    "\n",
    "If you want to insert variables within a string, you can separate string snippets with commas. Note that the commas will not be printed, but also that each comma automatically adds a space before the next item.\n"
   ]
  },
  {
   "cell_type": "code",
   "execution_count": null,
   "metadata": {},
   "outputs": [],
   "source": [
    "a = 5\n",
    "b = 12\n",
    "c = 'pomegranate'\n",
    "\n",
    "print(a, '+', b, '= 17') # 5 + 12 = 17\n",
    "print('I\\'d like a', c, '.') # I'd like a pomegranate ."
   ]
  },
  {
   "cell_type": "markdown",
   "metadata": {},
   "source": [
    "But that can get annoying when you're inserting multiple variables. It can also end up printing out spaces where you don't want them (e.g. between `pomegranate` and `.` To simplify this with an f-string, you can add variables directly into a string within `{}`. Remember that if you don't add the \"f\" before the opening quote, it will interpret the string content literally!\n"
   ]
  },
  {
   "cell_type": "code",
   "execution_count": null,
   "metadata": {},
   "outputs": [],
   "source": [
    "a = 5\n",
    "b = 12\n",
    "c = 'pomegranate'\n",
    "\n",
    "print(f'{a} + {b} = 17') # 5 + 12 = 17\n",
    "print('{a} + {b} = 17') # {a} + {b} = 17\n",
    "\n",
    "\n",
    "print(f'I\\'d like a {c}.') # I'd like a pomegranate.\n",
    "print('I\\'d like a {c}.') # I'd like a {c}."
   ]
  },
  {
   "cell_type": "markdown",
   "metadata": {},
   "source": [
    "\n",
    "You can insert as many variables as you want than one variable\n",
    "\n",
    "#### Manipulate Variables Directly in a String\n",
    "\n",
    "You can even do simple operations on variables within the `{}` such as math, functions, and methods. (More on the latter two to come!\n"
   ]
  },
  {
   "cell_type": "code",
   "execution_count": null,
   "metadata": {},
   "outputs": [],
   "source": [
    "a = 5\n",
    "b = 12\n",
    "c = pomegranate\n",
    "\n",
    "# MATH\n",
    "print(f'{a} + {b} = {a + b}') # 5 + 12 = 17\n",
    "print(f'{b % a}') # 2\n",
    "\n",
    "# FUNCTION\n",
    "print(f'{len(c)}') # 11\n",
    "\n",
    "# METHOD\n",
    "print(f'{c.upper()}') # POMEGRANATE"
   ]
  },
  {
   "cell_type": "markdown",
   "metadata": {},
   "source": [
    "\n",
    "## Stripping Extra Spaces\n",
    "\n",
    ">**Bonus Topic**: You can use several versions of the the `.strip()` function to remove leading and trailing spaces from strings.\n",
    ">* `.lstrip()`: remove all leading AND trailing spaces\n",
    ">* `.rstrip()`: remove all leading AND trailing spaces\n",
    ">* `.strip()`: remove all leading AND trailing spaces\n"
   ]
  },
  {
   "cell_type": "code",
   "execution_count": null,
   "metadata": {},
   "outputs": [],
   "source": [
    "a = '    hi mom!'\n",
    "print(f'LEADING SPACES: \\n{a} \\n{a.strip()}\\n\\n')\n",
    "\n",
    "\n",
    "b = 'hi mom!    '\n",
    "print(f'TRAILING SPACES: \\n{b} \\n{c.strip()}\\n\\n')\n",
    "\n",
    "\n",
    "c = '    hi mom!    '\n",
    "# print(c, '\\n', c.strip(), '\\n\\n')\n",
    "print(f'LEADING & TRAILING SPACES: \\n{c} \\n{c.strip()}')"
   ]
  },
  {
   "cell_type": "markdown",
   "metadata": {},
   "source": [
    "\n",
    "## User Input\n",
    "\n",
    "As a bonus topic, let's discuss how to collect input from the user while running your program. It's quite simple - declare a variable equal to the `input()` function. Your program will stop when it reaches that function and wait for user input. You can (and probably should) add a string within the `input()` function. This will act as a written prompt for the user. Let's see this in action:\n"
   ]
  },
  {
   "cell_type": "code",
   "execution_count": null,
   "metadata": {},
   "outputs": [],
   "source": [
    "answer = input('What is your name? ')\n",
    "print(answer)"
   ]
  },
  {
   "cell_type": "markdown",
   "metadata": {},
   "source": [
    "One vital thing to remember is that *the `input()` function will always typecast the user's input into a string.* This can be problematic:\n"
   ]
  },
  {
   "cell_type": "code",
   "execution_count": null,
   "metadata": {},
   "outputs": [],
   "source": [
    "subtotal = 48.37\n",
    "tip = input('Please enter the amount of tip you want to leave: ')\n",
    "total = subtotal + tip # TypeError"
   ]
  },
  {
   "cell_type": "markdown",
   "metadata": {},
   "source": [
    "To remedy this, you have to remember to typecast the user's input into whatever data type you ultimately need.\n"
   ]
  },
  {
   "cell_type": "code",
   "execution_count": null,
   "metadata": {},
   "outputs": [],
   "source": [
    "subtotal = 48.37\n",
    "tip = float(input('Please enter the amount of tip you want to leave: '))\n",
    "total = subtotal + tip \n",
    "print(f'{total:.2f}')"
   ]
  },
  {
   "cell_type": "markdown",
   "metadata": {},
   "source": [
    "\n"
   ]
  }
 ],
 "metadata": {},
 "nbformat": 4,
 "nbformat_minor": 2
}
