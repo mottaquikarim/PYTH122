{
 "cells": [
  {
   "cell_type": "markdown",
   "metadata": {},
   "source": [
    "[![Open In Colab](https://colab.research.google.com/assets/colab-badge.svg)](https://colab.research.google.com/github/mottaquikarim/pycontent/blob/master/.out/topics/basic_data_types.ipynb)"
   ]
  },
  {
   "cell_type": "markdown",
   "metadata": {},
   "source": [
    "# Basic Data Types\n",
    "\n",
    "## Variables & Primitive Data Types\n",
    "\n",
    "### Creating & Reading Variables\n",
    "\n",
    "In all programming languages, developers leverage **variables** to store and retrieve units of information. Each language categorizes these pieces of data...hence the term **data types**. Because variables are so ubiquitous, there are some **rules for naming variables** that help avoid confusion.\n",
    "\n",
    "* **Rule:** snake_case with the underscore character\n",
    "* **Rule:** Can’t use keywords as var names, e.g. True, None, function, class, object\n",
    "* **Rule:** Can’t start with a numeric value, e.g. can't name something \"1var\", but you CAN do function1\n",
    "* **Best Practice:** You COULD use CamelCase to name a variable, but this is typically reserved for naming a different Python object called a \"class\".\n",
    "\n",
    "As seen below, once you create your variable, you can display the value stored in a variable on the screen using the `print()` statement. \n"
   ]
  },
  {
   "cell_type": "code",
   "execution_count": null,
   "metadata": {},
   "outputs": [],
   "source": [
    "first_prime = 2\n",
    "print(first_prime) # expect to see 2"
   ]
  },
  {
   "cell_type": "markdown",
   "metadata": {},
   "source": [
    ">>**Pro tip!** Let's quickly look at how to write **comments** in the code. Documenting notes with comments is extremely useful, especially when multiple people are working on a project.\n"
   ]
  },
  {
   "cell_type": "code",
   "execution_count": null,
   "metadata": {},
   "outputs": [],
   "source": [
    "# I'm a comment!\n",
    "\n",
    "\"\"\"\n",
    "I'm a\n",
    "multi-line\n",
    "comment\n",
    "\"\"\""
   ]
  },
  {
   "cell_type": "markdown",
   "metadata": {},
   "source": [
    "### Primitive Data Types\n",
    "\n",
    "The following list defines Python's \"primitive\" data types. In other words, these are the building blocks, which compose the more complex data types we'll learn about later.\n",
    "\n",
    "* **Strings**: alphanumeric characters read as text\n",
    "* **Integers**: whole numbers\n",
    "* **Floats**: decimals\n",
    "* **Booleans**: represents True or False values; used for evaluating conditional statements\n",
    "* **Nonetype**: represents variables not yet defined or essentially blank values (shown as None, used as a placeholder to avoid errors)\n"
   ]
  },
  {
   "cell_type": "code",
   "execution_count": null,
   "metadata": {},
   "outputs": [],
   "source": [
    "# Strings\n",
    "cat = 'Layla' # or \"Layla\" because single & double quotes are both valid\n",
    "\n",
    "# Integers\n",
    "age = 8\n",
    "\n",
    "# Floats\n",
    "weight = 10.5\n",
    "\n",
    "# Booleans\n",
    "vaccinated = True\n",
    "good_with_other_cats = False\n",
    "\n",
    "# Nonetype\n",
    "good_with_other_dogs = None"
   ]
  },
  {
   "cell_type": "markdown",
   "metadata": {},
   "source": [
    "\n",
    "## String Formatting\n",
    "\n",
    "A string can be any combination of alphanumeric characters of any length. The below are all examples of strings. Notice how putting quotes around other data types turns them into strings.\n"
   ]
  },
  {
   "cell_type": "code",
   "execution_count": null,
   "metadata": {},
   "outputs": [],
   "source": [
    "cat = 'Layla' # a single word\n",
    "colors = 'white and orange' # a phrase or sentence\n",
    "\n",
    "age = '8'\n",
    "weight = '10.5'\n",
    "\n",
    "vaccinated = 'True'\n",
    "good_with_other_cats = 'False'\n",
    "\n",
    "good_with_other_dogs = 'None'"
   ]
  },
  {
   "cell_type": "markdown",
   "metadata": {},
   "source": [
    "Because the content of a string can vary so much, Python has several features that make handling them much easier...\n",
    "\n",
    "### Escape Characters\n",
    "\n",
    "Python has defined certain **escape characters** that will NOT be read literally when placed inside a string. Instead, they tell Python to insert a character in a special way. For example, since strings can be enclosed by single or double quotes, what happens when you need to use one of those within the string? Python will get confused as to where you want your string to start and end! That's where the `\\'` and `\\\"` escape characters come in.\n"
   ]
  },
  {
   "cell_type": "code",
   "execution_count": null,
   "metadata": {},
   "outputs": [],
   "source": [
    "demeanor = 'Layla\\'s mischievous, but very sweet!'\n",
    "print(demeanor)\n",
    "\n",
    "\n",
    "sound = \"Layla says \\\"Meow\\\"!\"\n",
    "print(sound)"
   ]
  },
  {
   "cell_type": "markdown",
   "metadata": {},
   "source": [
    "\n",
    "The `\\n` escape character tells Python to start a new line before displaying the rest of the string. \n"
   ]
  },
  {
   "cell_type": "code",
   "execution_count": null,
   "metadata": {},
   "outputs": [],
   "source": [
    "print('Layla:\\nMaine Coon\\n8 years old\\n10.5 lb')"
   ]
  },
  {
   "cell_type": "markdown",
   "metadata": {},
   "source": [
    "\n",
    "### String Formatting with f-Strings\n",
    "\n",
    "Python supports a feature called **f-strings** that enables dynamic formatting of strings. By placing \"f\" before a string, it notifies Python to interpret the string dynamically based on the rules and syntax of f-string formatting. Without the \"f\", Python will interpret the string literally. Here are some of the most common use cases:\n",
    "\n",
    "#### Multi-Line Strings\n",
    "\n",
    "Using `\\n` will let you tell Python to split your string into multiple lines when printed. Using an f-string makes the text more readable within your code as well. For a multi-line f-string, you need to enclose your string in triple `'''` or `\"\"\"`. Let's say you're storing song lyrics, so you want to have a line break between each line of the song. \n"
   ]
  },
  {
   "cell_type": "code",
   "execution_count": null,
   "metadata": {},
   "outputs": [],
   "source": [
    "print('Cause if you liked it, then you should have put a ring on it\\nIf you liked it, then you should have put a ring on it\\nDon\\'t be mad once you see that he want it\\nIf you liked it, then you should have put a ring on it')\n",
    "\n",
    "print(f'''\n",
    "'Cause if you liked it, then you should have put a ring on it\n",
    "If you liked it, then you should have put a ring on it\n",
    "Don't be mad once you see that he want it\n",
    "If you liked it, then you should have put a ring on it\n",
    "''')"
   ]
  },
  {
   "cell_type": "markdown",
   "metadata": {},
   "source": [
    "\n",
    ">**Remember!**\n",
    "> If you use triples quotes *without* the \"f\", you're creating a multi-line *comment*, which won't print out.\n",
    "\n",
    "\n",
    "#### Insert Variables in a String\n",
    "\n",
    "If you want to insert variables within a string, you can separate string snippets with commas. Note that the commas will not be printed, but also that each comma automatically adds a space before the next item.\n"
   ]
  },
  {
   "cell_type": "code",
   "execution_count": null,
   "metadata": {},
   "outputs": [],
   "source": [
    "a = 5\n",
    "b = 12\n",
    "c = 'pomegranate'\n",
    "\n",
    "print(a, '+', b, '= 17') # 5 + 12 = 17\n",
    "print('I\\'d like a', c, '.') # I'd like a pomegranate ."
   ]
  },
  {
   "cell_type": "markdown",
   "metadata": {},
   "source": [
    "But that can get annoying when you're inserting multiple variables. It can also end up printing out spaces where you don't want them (e.g. between `pomegranate` and `.` To simplify this with an f-string, you can add variables directly into a string within `{}`. Remember that if you don't add the \"f\" before the opening quote, it will interpret the string content literally!\n"
   ]
  },
  {
   "cell_type": "code",
   "execution_count": null,
   "metadata": {},
   "outputs": [],
   "source": [
    "a = 5\n",
    "b = 12\n",
    "c = 'pomegranate'\n",
    "\n",
    "print(f'{a} + {b} = 17') # 5 + 12 = 17\n",
    "print('{a} + {b} = 17') # {a} + {b} = 17\n",
    "\n",
    "\n",
    "print(f'I\\'d like a {c}.') # I'd like a pomegranate.\n",
    "print('I\\'d like a {c}.') # I'd like a {c}."
   ]
  },
  {
   "cell_type": "markdown",
   "metadata": {},
   "source": [
    "\n",
    "You can insert as many variables as you want than one variable\n",
    "\n",
    "####    Manipulate Variables Directly in a String\n",
    "\n",
    "You can even do simple operations on variables within the `{}` such as math, functions, and methods. (More on the latter two to come!\n"
   ]
  },
  {
   "cell_type": "code",
   "execution_count": null,
   "metadata": {},
   "outputs": [],
   "source": [
    "a = 5\n",
    "b = 12\n",
    "c = pomegranate\n",
    "\n",
    "# MATH\n",
    "print(f'{a} + {b} = {a + b}') # 5 + 12 = 17\n",
    "print(f'{b % a}') # 2\n",
    "\n",
    "# FUNCTION\n",
    "print(f'{len(c)}') # 11\n",
    "\n",
    "# METHOD\n",
    "print(f'{c.upper()}') # POMEGRANATE"
   ]
  },
  {
   "cell_type": "markdown",
   "metadata": {},
   "source": [
    "\n",
    ">**Bonus Topic**: You can use several versions of the the `.strip()` function to remove leading and trailing spaces from strings.\n",
    ">* `.lstrip()`: remove all leading AND trailing spaces\n",
    ">* `.rstrip()`: remove all leading AND trailing spaces\n",
    ">* `.strip()`: remove all leading AND trailing spaces\n"
   ]
  },
  {
   "cell_type": "code",
   "execution_count": null,
   "metadata": {},
   "outputs": [],
   "source": [
    "a = '    hi mom!'\n",
    "print(f'LEADING SPACES: \\n{a} \\n{a.strip()}\\n\\n')\n",
    "\n",
    "\n",
    "b = 'hi mom!    '\n",
    "print(f'TRAILING SPACES: \\n{b} \\n{c.strip()}\\n\\n')\n",
    "\n",
    "\n",
    "c = '    hi mom!    '\n",
    "# print(c, '\\n', c.strip(), '\\n\\n')\n",
    "print(f'LEADING & TRAILING SPACES: \\n{c} \\n{c.strip()}')"
   ]
  },
  {
   "cell_type": "markdown",
   "metadata": {},
   "source": [
    "\n",
    "### 🏋️‍♀️ **EXERCISES** 🏋️‍♀️ \n",
    "\n",
    "Complete the \"Easy\" PSET in your copy of `basic_data_types_psets.ipynb` in Google Drive.\n",
    "\n",
    "## Typecasting\n",
    "\n",
    "### `type()`\n",
    "\n",
    "Check what data type is stored in a variable using the `type()` statement or the `isinstance()` statement.\n"
   ]
  },
  {
   "cell_type": "code",
   "execution_count": null,
   "metadata": {},
   "outputs": [],
   "source": [
    "# Example 1 - type()\n",
    "a = 1\n",
    "print(type(a)) # <class 'int'>\n",
    "\n",
    "b = '2.5'\n",
    "print(type(b)) #  \n",
    "\n",
    "# Example 2 - isinstance()\n",
    "c = -1\n",
    "print(f'Is {c} a boolean?', isinstance(c, bool)) # False\n",
    "\n",
    "d = False\n",
    "print(f'Is {d} a boolean?', isinstance(d, bool)) # True"
   ]
  },
  {
   "cell_type": "markdown",
   "metadata": {},
   "source": [
    "\n",
    "### Convert Values Into Different Data Types\n",
    "\n",
    "**Typecasting** is a way to convert an instance of one data type to another. Numbers are the most flexible for converting, while strings are very inflexible. Booleans get a bit more complicated, so we'll look at those last!\n",
    "\n",
    "#### Converting Numbers\n"
   ]
  },
  {
   "cell_type": "code",
   "execution_count": null,
   "metadata": {},
   "outputs": [],
   "source": [
    "\"\"\"INTEGERS\"\"\"\n",
    "int_to_float = float(10) # 10.0, <class 'float'>\n",
    "int_to_string = str(10) # 10, <class 'str'>\n",
    "\n",
    "\"\"\"FLOATS\"\"\"\n",
    "float_to_int = int(2.5) # 2, <class 'float'>\n",
    "# Notice it does NOT ROUND!\n",
    "float_to_string = str(2.5) # '2.5', <class 'str'>"
   ]
  },
  {
   "cell_type": "markdown",
   "metadata": {},
   "source": [
    "\n",
    "#### Converting Strings\n"
   ]
  },
  {
   "cell_type": "code",
   "execution_count": null,
   "metadata": {},
   "outputs": [],
   "source": [
    "string_to_int = int('mango') # ERROR!\n",
    "string_to_float = str('strawberry') # ERROR!"
   ]
  },
  {
   "cell_type": "markdown",
   "metadata": {},
   "source": [
    "\n",
    "#### Converting Booleans\n",
    "\n",
    "Typecasting between strings and booleans is relatively simple.\n"
   ]
  },
  {
   "cell_type": "code",
   "execution_count": null,
   "metadata": {},
   "outputs": [],
   "source": [
    "t = str(True) # 'True'\n",
    "f = str(False) # 'False'\n",
    "\n",
    "str_to_True_bool = bool('peach') # True (<class 'bool'>)"
   ]
  },
  {
   "cell_type": "markdown",
   "metadata": {},
   "source": [
    "The **ONLY** way a *string* converted into a boolean will be False is if it's **empty** (as seen above). Spaces count as characters even though they wouldn't display anything if printed. We can prove this by finding the length of a string that only contains spaces.\n"
   ]
  },
  {
   "cell_type": "code",
   "execution_count": null,
   "metadata": {},
   "outputs": [],
   "source": [
    "empty = ''\n",
    "print(bool(empty), len(empty)) # False (<class 'bool'>), 0\n",
    "\n",
    "spaces = '     '\n",
    "print(bool(spaces), len(spaces)) # True (<class 'bool'>), 5"
   ]
  },
  {
   "cell_type": "markdown",
   "metadata": {},
   "source": [
    "\n",
    "Typecasting numbers to and from boolean values is a little more nuanced. A `False` boolean is always associated with `0` or `0.0`.\n"
   ]
  },
  {
   "cell_type": "code",
   "execution_count": null,
   "metadata": {},
   "outputs": [],
   "source": [
    "int_to_boolean = bool(0) # False (<class 'bool'>)\n",
    "float_to_boolean = bool(0.0) # False (<class 'bool'>)\n",
    "\n",
    "\n",
    "false_to_int = int(False) # 0\n",
    "false_to_float = float(False) # 0.0"
   ]
  },
  {
   "cell_type": "markdown",
   "metadata": {},
   "source": [
    "However, while you can convert any number to a True boolean, a True boolean will only ever become 1 or 1.0. \n"
   ]
  },
  {
   "cell_type": "code",
   "execution_count": null,
   "metadata": {},
   "outputs": [],
   "source": [
    "int_to_boolean = bool(10) # True (<class 'bool'>)\n",
    "float_to_boolean = bool(2.5) # True (<class 'bool'>)\n",
    "\n",
    "\n",
    "true_to_int = int(True) # 1\n",
    "true_to_float = float(True) # 1.0"
   ]
  },
  {
   "cell_type": "markdown",
   "metadata": {},
   "source": [
    "To give you a contextual example, let's say you're running a drug trial at a pharmaceutical company. You have a spreadsheet of the participants and info about them such as their name, age, gender, etc. You also have a field that represents whether or not that participant is on the real drug (True / 1) or a placebo (False / 0). The reason you'd use the 1s and 0s is to allow you to quantify that categorical variable.\n",
    "\n",
    "### 🏋️‍♀️ **EXERCISES** 🏋️‍♀️ \n",
    "\n",
    "Take a stab at the \"Typecasting\" PSET in your copy of `basic_data_types_psets.ipynb` in Google Drive.\n",
    "\n",
    "## Simple Operators\n",
    "\n",
    "**Operators** are shortcuts for manipulating values stored in variables.\n",
    "\n",
    "### Integer/Float Operators\n",
    "\n",
    "We can operate on integers/floats in the following ways:\n",
    "\n",
    "* Addition\n",
    "* Subtraction\n",
    "* Multiplication\n",
    "* Division\n",
    "* Modulus (This one divides and returns **only the remainder**.)\n"
   ]
  },
  {
   "cell_type": "code",
   "execution_count": null,
   "metadata": {},
   "outputs": [],
   "source": [
    "orig_num = 10\n",
    "\n",
    "# Addition\n",
    "num1 = orig_num + 5 # 15\n",
    "\n",
    "# Subtraction\n",
    "num2 = orig_num - 5 # 5\n",
    "\n",
    "# Multiplication\n",
    "num3 = orig_num * 5 # 50\n",
    "\n",
    "# Division\n",
    "num4 = orig_num / 5 # 2\n",
    "\n",
    "# Modulus\n",
    "num5 = orig_num % 5 # 0\n",
    "num6 = orig_num % 3 # 1"
   ]
  },
  {
   "cell_type": "markdown",
   "metadata": {},
   "source": [
    "### String Operators\n",
    "\n",
    "* We can \"add\" strings\n",
    "* We CANNOT add strings to non strings\n"
   ]
  },
  {
   "cell_type": "code",
   "execution_count": null,
   "metadata": {},
   "outputs": [],
   "source": [
    "a = 'this string'\n",
    "b = 'that string'\n",
    "\n",
    "print(a + b) # 'this stringthat string'\n",
    "\n",
    "\n",
    "print(a + ' and ' + b) # 'this string and that string'\n",
    "print(a, 'and', b) # 'this string and that string'\n",
    "\n",
    "\n",
    "\"\"\"ERROR!!!\n",
    "print('this will not work' + 4) doesn't work \n",
    "because you can't add a number to a string\"\"\""
   ]
  },
  {
   "cell_type": "markdown",
   "metadata": {},
   "source": [
    "### 🏋️‍♀️ **EXERCISES** 🏋️‍♀️ \n",
    "\n",
    "Complete the \"Operators\" PSET in your copy of `basic_data_types_psets.ipynb` in Google Drive."
   ]
  }
 ],
 "metadata": {},
 "nbformat": 4,
 "nbformat_minor": 2
}
