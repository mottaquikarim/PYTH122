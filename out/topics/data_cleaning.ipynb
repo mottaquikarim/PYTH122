{
 "cells": [
  {
   "cell_type": "markdown",
   "metadata": {},
   "source": [
    "[![Open In Colab](https://colab.research.google.com/assets/colab-badge.svg)](https://colab.research.google.com/github/mottaquikarim/pycontent/blob/master/.out/topics/data_cleaning.ipynb)"
   ]
  },
  {
   "cell_type": "markdown",
   "metadata": {},
   "source": [
    "# Data Cleaning\n",
    "\n",
    "<img src=\"https://i.chzbgr.com/full/1898496256/h42C0CC42/panda-cleaning-instructions\" style=\"margin: 0 auto; float: right;\"/>\n",
    "\n",
    "Data cleaning is arguably as important as any amount of insight you obtain from your dataset. The more data there is, especially data aggregated from multiple sources, the messier it is. You need to reformat and standardize it before you can successfully complete any real analysis. Otherwise...garbage in, garbage out...\n",
    "\n",
    "## Objectives\n",
    "\n",
    "* Handling null values\n",
    "* Element-wise functions\n",
    "* Vectorized typecasting\n",
    "* Scaling variables\n",
    "* Series.map()\n",
    "* Series.apply()\n",
    "* Row- & Column-wise functions \n",
    "* DataFrame.apply()\n",
    "\n",
    "### Import\n"
   ]
  },
  {
   "cell_type": "code",
   "execution_count": null,
   "metadata": {},
   "outputs": [],
   "source": [
    "import pandas as pd\n",
    "import numpy as np\n",
    "from scipy import stats\n",
    "import matplotlib.pyplot as plt\n",
    "%matplotlib inline\n",
    "import seaborn as sns\n",
    "\n",
    "print('import successful')"
   ]
  },
  {
   "cell_type": "markdown",
   "metadata": {},
   "source": [
    "\n",
    "Load the data with `imdbID` as the index and make a copy.\n"
   ]
  },
  {
   "cell_type": "code",
   "execution_count": null,
   "metadata": {},
   "outputs": [],
   "source": [
    "omdb_orig = pd.read_csv('https://raw.githubusercontent.com/mottaquikarim/pycontent/master/content/raw_data/omdb4500_cleaning.csv', index_col='imdbID')\n",
    "movies = omdb_orig.copy()\n",
    "print('data loaded successfully')"
   ]
  },
  {
   "cell_type": "markdown",
   "metadata": {},
   "source": [
    "\n",
    "## A Note on Handling Null Values\n",
    "\n",
    "Having null values in your data can cause various issues with your code and with your analysis. Deciding how to deal with null values is a huge part of cleaning your data, and you have to think about each column contextually. At a high level, you can drop rows/columns containing null values or replace all instances of null values with some default value. \n",
    "\n",
    "In addition to the \"how\", you also have to contextually consider the \"when\". You might decide to drop rows containing null values right away so that reformatting is straightforward. Maybe you have to reformat the data before you can fill it with a default value. Then again, you might wait to evaluate how much data is missing until you reformat your data and/or remove other bad data. For example, we got rid of all rows that were TV shows instead of movies first.\n",
    "\n",
    "In this lesson, you'll see some simple examples of handling null values. Then, when we get to the Exploratory Data Analysis lesson, we'll discuss more complex examples.\n",
    "\n",
    "## Element-wise Functions\n",
    "\n",
    "An **elementwise** function is one that you call on a Series object as a whole, but that vectorizes the functions actions across each of the Series elements. \n",
    "\n",
    "### Typecasting\n",
    "\n",
    "Typecasting a Series is one of the most basic elementwise functions. Most commonly in cleaning your data, you'll use:\n",
    "\n",
    "* `pd.to_numeric(s)`: typecast the items in a Series to ints or floats; will infer which numeric type is best\n",
    "* `s.astype()`: typecast the items in a Series to some data type; accepts `'int64'`, `'float64'`, `'str'`, etc.\n",
    "\n",
    "Let's test these out quickly on the `Year` column. What data type is it now?\n"
   ]
  },
  {
   "cell_type": "code",
   "execution_count": null,
   "metadata": {},
   "outputs": [],
   "source": [
    "test_year = movies['Year'].copy()\n",
    "print(type(test_year[0]))"
   ]
  },
  {
   "cell_type": "markdown",
   "metadata": {},
   "source": [
    "\n",
    "Convert it to string type using `.astype()`.\n"
   ]
  },
  {
   "cell_type": "code",
   "execution_count": null,
   "metadata": {},
   "outputs": [],
   "source": [
    "test_year = test_year.astype('str')\n",
    "type(test_year[0])"
   ]
  },
  {
   "cell_type": "markdown",
   "metadata": {},
   "source": [
    "\n",
    "Convert it to one of the numeric types using `pd.to_numeric(s)`.\n"
   ]
  },
  {
   "cell_type": "code",
   "execution_count": null,
   "metadata": {},
   "outputs": [],
   "source": [
    "test_year = pd.to_numeric(test_year)\n",
    "type(test_year[0])"
   ]
  },
  {
   "cell_type": "code",
   "execution_count": null,
   "metadata": {},
   "outputs": [],
   "source": [
    "\n",
    "\n",
    "### The `.map()` function\n",
    "\n",
    "For the next few example, we'll leverage the `s.map(arg, na_action=None)` function, another **elementwise** function. You can use the `.map(arg, na_action=None)` function to substitute or transform each value in a Series with another value. `.map()` itself serves to pass along \"instructions\" for how to manipulate each element in the Series. Accordingly, the `arg` parameter will accept single-argument functions, dicts, or Series. As you might imagine, `.map()` requires us to pass it a \"mapping\" for the before and after values.\n",
    "\n",
    "\n",
    "| Type of `arg` |    Map From   |    Map To    |\n",
    "|:-------------:|:-------------:|:------------:|\n",
    "|   Function    |  1 Parameter  | Return Value |\n",
    "|     Dict      |      Key      |     Value    |\n",
    "|    Series     |     Index     |     Value    |\n",
    "\n",
    "\n",
    "In *most* cases, if there are null values in the original Series, an error will stop your `.map()` function's execution. (We'll see the exception soon.) The `na_action` parameter allows you to bypass this issue until you decide what how to handle different pieces of missing data in your dataset. If you set `na_action='ignore'`, `.map()` will simply skip over null values.\n",
    "\n",
    "Finally, *notice that there is no `inplace` parameter for `.map()`*. You have to remember to assign the results to some variable, or you'll never see them!\n",
    "\n",
    "### Reformat Rotten Tomatoes\n",
    "\n",
    "If we look at the three movie rating variables, each source has provided ratings for each movie on a different scale and in a different format. \n",
    "\n",
    "* `imdbRating`: 0.0-10.0; float format\n",
    "* `Metascore`: 0.0-100.0; float format\n",
    "* `Rotten Tomatoes`: 0-100%; string format\n",
    "\n",
    "Let's start by mapping `Rotten Tomatoes` ratings from strings to numeric values. \n"
   ]
  },
  {
   "cell_type": "code",
   "execution_count": null,
   "metadata": {},
   "outputs": [],
   "source": [
    "movies['Rotten Tomatoes']"
   ]
  },
  {
   "cell_type": "markdown",
   "metadata": {},
   "source": [
    "\n",
    "All we have to do is strip off the \"%\" character and typecast the values to floats. Of course, we have to pass this to `.map()` in the form of a function. For brevity, whenever possible, most people use **lambda functions** with `.map()`. A **lambda function** is a nameless function that is defined, used, and forgotten in one line. Here's an example of the syntax relative to a regular function.\n"
   ]
  },
  {
   "cell_type": "code",
   "execution_count": null,
   "metadata": {},
   "outputs": [],
   "source": [
    "\"\"\"\n",
    "def squared(x):\n",
    "    return x**2\n",
    "\n",
    "...is equivalent to...\n",
    "\n",
    "lambda x: x**2\n",
    "\"\"\""
   ]
  },
  {
   "cell_type": "markdown",
   "metadata": {},
   "source": [
    "\n",
    "The body of the lambda function we need for reformatting `Rotten Tomatoes` ratings is `float(x.strip('%'))`. Also, don't forget to set `na_action='ignore'`, since there are null values in this column.\n"
   ]
  },
  {
   "cell_type": "code",
   "execution_count": null,
   "metadata": {},
   "outputs": [],
   "source": [
    "movies['Rotten Tomatoes'] = movies['Rotten Tomatoes'].map(lambda x: float(x.strip('%')), na_action='ignore')\n",
    "movies['Rotten Tomatoes']"
   ]
  },
  {
   "cell_type": "markdown",
   "metadata": {},
   "source": [
    "\n",
    "### Scaling Variables\n",
    "\n",
    "Look again at the formats for our ratings variables:\n",
    "\n",
    "* `imdbRating`: 0.0-10.0; float format\n",
    "* `Metascore`: 0.0-100.0; float format\n",
    "* `Rotten Tomatoes`: 0.0-100.0; float format\n",
    "\n",
    "For graphical comparisons, you always want numeric variables on the same *scale*. Since it's easier to see minute differences between data points on a larger scale, we'll scale `imdbRating` to match `Metascore` and `Rotten Tomatoes`.\n",
    "\n",
    "First, how many movies are missing a rating from IMDb?\n"
   ]
  },
  {
   "cell_type": "code",
   "execution_count": null,
   "metadata": {},
   "outputs": [],
   "source": [
    "movies['imdbRating'].isna().sum()"
   ]
  },
  {
   "cell_type": "markdown",
   "metadata": {},
   "source": [
    "\n",
    "There are 5 null values, so we need to set `na_action='ignore'`, right? Nope! Here's the exception to `.map()`'s rule about null values. \n",
    "\n",
    "Assume `a = np.nan` (`np.nan` is the notation for a null value):\n",
    "\n",
    "* `a.split(',')` would raise an error because you can't apply that, or any, method or function to a null value\n",
    "* `a*10` will NOT raise an error because *basic mathematical operators* treat null values like 0s\n",
    "\n",
    "Knowing this, we could easily scale `imdbRating` with `movies['imdbRating']*10`, but let's use this opportunity to prove the null value exception with `.map()`.\n"
   ]
  },
  {
   "cell_type": "code",
   "execution_count": null,
   "metadata": {},
   "outputs": [],
   "source": [
    "movies['imdbRating'] = movies['imdbRating'].map(lambda x: x*10)\n",
    "movies['imdbRating']"
   ]
  },
  {
   "cell_type": "markdown",
   "metadata": {},
   "source": [
    "\n",
    "## Element-wise Functions with .apply()\n",
    "\n",
    "When applied to a Series object, the `.apply()` function is effectively the same as `.map()`. It's just another elementwise function. The difference is that you can pass it more complex functions (e.g. more than one line, conditionals, error handling, etc.), while `.map()` is mainly paired with simple lambda functions.\n",
    "\n",
    "* `s.apply()`\n",
    "\n",
    "As with `.map()`, if there are null values in the Series, an error will stop the code's execution. However, `.apply()` has no equivalent to the `na_action` parameter in `.map()`. If you don't want to drop all the rows with null values just to get your `.apply()` function working, you can **manually** skip over null values using the same logic behind the `na_action` parameter. For example, you can build in conditional logic or a try/except statement.\n",
    "\n",
    "### Reformat imdbVotes\n",
    "\n",
    "`imdbVotes` also needs to be a numeric variable, but it would take more than one line to accomplish this. Therefore, it wouldn't be as efficient to use `.map()`. Instead, we can define our own function and pass it to `.apply()`.\n",
    "\n",
    "First, make a temporary copy of the `imdbVotes` column to use with our `.apply()` operations.\n"
   ]
  },
  {
   "cell_type": "code",
   "execution_count": null,
   "metadata": {},
   "outputs": [],
   "source": [
    "temp_imdbVotes = movies['imdbVotes'].copy()\n",
    "temp_imdbVotes.head(3)"
   ]
  },
  {
   "cell_type": "markdown",
   "metadata": {},
   "source": [
    "\n",
    "When you define a custom function to use with `.apply()`, it's always a good idea to test the function on a single value.\n"
   ]
  },
  {
   "cell_type": "code",
   "execution_count": null,
   "metadata": {},
   "outputs": [],
   "source": [
    "def votes_reformat(value):\n",
    "    \"\"\"remove commas from str and convert field to int\"\"\"\n",
    "    try:\n",
    "        split = value.split(',')\n",
    "        votes = int(''.join(split_row))\n",
    "        return votes\n",
    "    except Exception as e:\n",
    "        return value\n",
    "\n",
    "test = temp_imdbVotes[0]\n",
    "votes_reformat(test)"
   ]
  },
  {
   "cell_type": "markdown",
   "metadata": {},
   "source": [
    "\n",
    "The single-value test worked, so we'll run it on the whole column...\n"
   ]
  },
  {
   "cell_type": "code",
   "execution_count": null,
   "metadata": {},
   "outputs": [],
   "source": [
    "temp_imdbVotes = temp_imdbVotes.apply(votes_reformat)\n",
    "temp_imdbVotes"
   ]
  },
  {
   "cell_type": "markdown",
   "metadata": {},
   "source": [
    "\n",
    "Wait... they're floats, not ints... And if you try to typecast directly to integers using `.astype('int64)`, it will cause a `TypeError`. Why? This is because the null values. In Pandas, `NaN` is considered a float. Since Series object must have homogenous data types, any numeric Series containing null values will be forced to `dtype='float64'`.\n",
    "\n",
    "When we decide how we want to handle the null values across our ratings fields, we can re-typecast this column. For now, we'll just reassign `temp_imdbVotes` back to the `movies` dataframe.\n"
   ]
  },
  {
   "cell_type": "code",
   "execution_count": null,
   "metadata": {},
   "outputs": [],
   "source": [
    "movies['imdbVotes'] = temp_imdbVotes\n",
    "movies['imdbVotes']"
   ]
  },
  {
   "cell_type": "markdown",
   "metadata": {},
   "source": [
    "\n",
    "### Reformat Runtime\n",
    "\n",
    "Next, we'll repeat this process with `Runtime`. This time though, we'll look at the column's null values first.\n"
   ]
  },
  {
   "cell_type": "code",
   "execution_count": null,
   "metadata": {},
   "outputs": [],
   "source": [
    "missing_runtime = movies[pd.isnull(movies['Runtime'])]\n",
    "print(len(missing_runtime))\n",
    "missing_runtime"
   ]
  },
  {
   "cell_type": "markdown",
   "metadata": {},
   "source": [
    "\n",
    "There are only three rows missing data for `Runtime`, all of which are also missing ratings from Rotten Tomatoes and Metascore. We might as well drop these rows, but we don't need to grab each one's index this time. (Flash back to when we removed TV shows using `movies.drop(labels=non_movie_ids, axis=0)`.) Since these three are the only rows with null values for `Runtime`, we can drop them as a group using `.dropna()`.\n",
    "\n",
    "* `df.dropna(axis=0, how='any', subset=[col1], inplace=False)`\n",
    "\n",
    "When you're dropping rows (i.e. axis=0), the `subset` parameters indicates which columns to check for null values. Accordingly, if you're checking for duplicates in multiple columns, the `how` parameters indicates whether you want the function to drop the row if `'any'` of those columns contain a null value or only if `'all'` of them are null.\n",
    "\n",
    "Let's drop all rows that contain a null value in the `Runtime` column from the `movies` dataframe:\n"
   ]
  },
  {
   "cell_type": "code",
   "execution_count": null,
   "metadata": {},
   "outputs": [],
   "source": [
    "movies.dropna(subset=['Runtime'], inplace=True)"
   ]
  },
  {
   "cell_type": "markdown",
   "metadata": {},
   "source": [
    "\n",
    "Did it work?\n"
   ]
  },
  {
   "cell_type": "code",
   "execution_count": null,
   "metadata": {},
   "outputs": [],
   "source": [
    "movies['Runtime'].isna().sum()"
   ]
  },
  {
   "cell_type": "markdown",
   "metadata": {},
   "source": [
    "\n",
    "Now when we reformat `Runtime`, there won't be any null values forcing the rest of the Series values into `float` format.\n",
    "\n",
    "Make a temporary copy of the `Runtime` column:\n"
   ]
  },
  {
   "cell_type": "code",
   "execution_count": null,
   "metadata": {},
   "outputs": [],
   "source": [
    "temp_runtime = movies['Runtime'].copy()\n",
    "temp_runtime"
   ]
  },
  {
   "cell_type": "markdown",
   "metadata": {},
   "source": [
    "\n",
    "Define and test a custom function to remove `' min'` from each value and typecast it to an integer. By the way, even though we just dropped the rows with null values, we should still build in a try/except statement to catch other potential issues!\n"
   ]
  },
  {
   "cell_type": "code",
   "execution_count": null,
   "metadata": {},
   "outputs": [],
   "source": [
    "def runtime_reformat(value):\n",
    "    \"\"\"remove 'min' from str and convert field to int\"\"\"\n",
    "    try:\n",
    "        value = value.split(' ')\n",
    "        numeric_runtime = int(value[0])\n",
    "        return numeric_runtime\n",
    "    except Exception as e:\n",
    "        print(e)\n",
    "        return value\n",
    "\n",
    "test = temp_runtime[0]\n",
    "result = runtime_reformat(test)\n",
    "\n",
    "# TESTING ONE VALUE...\n",
    "print(f'''\n",
    "BEFORE: {test}, {type(test)}\n",
    "AFTER: {result}, {type(result)}\n",
    "''')"
   ]
  },
  {
   "cell_type": "markdown",
   "metadata": {},
   "source": [
    "\n",
    "Let it run on the whole Series:\n"
   ]
  },
  {
   "cell_type": "code",
   "execution_count": null,
   "metadata": {},
   "outputs": [],
   "source": [
    "temp_runtime = temp_runtime.apply(runtime_reformat)\n",
    "temp_runtime"
   ]
  },
  {
   "cell_type": "markdown",
   "metadata": {},
   "source": [
    "\n",
    "Assign it back to the `movies` dataframe:\n"
   ]
  },
  {
   "cell_type": "code",
   "execution_count": null,
   "metadata": {},
   "outputs": [],
   "source": [
    "movies['Runtime'] = temp_runtime\n",
    "movies['Runtime']"
   ]
  },
  {
   "cell_type": "markdown",
   "metadata": {},
   "source": [
    "\n",
    "### Filter/Drop Shorts\n",
    "\n",
    "In the last lesson, we dropped all TV shows from the dataframe because we only want to evaluate movies. In the same vein, it's not truly accurate to compare long-form movies to \"short-form videos\". That might include [animated shorts from Pixar](https://www.studiobinder.com/blog/pixar-shorts/), for example, or \"made-for-TV\" specials that last ~40-45 minutes (1 hour with commercials).\n",
    "\n",
    "How many \"shorts\" are there?\n"
   ]
  },
  {
   "cell_type": "code",
   "execution_count": null,
   "metadata": {},
   "outputs": [],
   "source": [
    "shorts = movies[movies['Runtime'] < 45].copy()\n",
    "shorts.sort_values(by=['Runtime'], ascending=False, inplace=True)\n",
    "\n",
    "print(len(shorts))\n",
    "shorts"
   ]
  },
  {
   "cell_type": "markdown",
   "metadata": {},
   "source": [
    "\n",
    "*Notice that the rows with null values are NOT included here!*\n",
    "\n",
    "Drop these by grabbing their index labels and check to make sure they're gone.\n"
   ]
  },
  {
   "cell_type": "code",
   "execution_count": null,
   "metadata": {},
   "outputs": [],
   "source": [
    "shorts_idx = list(shorts.index)\n",
    "movies.drop(labels=shorts_idx, axis=0, inplace=True)\n",
    "shorts = movies['Runtime'] < 45\n",
    "shorts.sum()"
   ]
  },
  {
   "cell_type": "markdown",
   "metadata": {},
   "source": [
    "\n",
    "## BONUS: Row- & Column-wise Functions with .apply()\n",
    "\n",
    "You can also implement `.apply()` as dataframe method. In this context, `.apply()` is a **row-wise** or **column-wise** function. Here's the difference:\n",
    "\n",
    "* **`s.apply(func)`** dynamically changes each value of that column a Series\n",
    "* **`df.apply(func, axis=0)`** dynamically changes each value *of each row/column* of a dataframe\n",
    "\n",
    "\n",
    "passes values from one column of every row to a function\n",
    "when axis = 1, passes *entire rows* to a function\n",
    ">>when axis = 0, passes whole cols where the row labels are treated like col labels...?\n",
    "\n",
    "\n",
    "Of course, the `axis` parameter is what determines whether your function is row-wise or column-wise. However, it's a little counter-intuitive. We know that `axis 0` refers to rows and `axis 1` refers to columns, but in the context of `df.apply()`:\n",
    "\n",
    "* If `axis=0`, the objects passed to `func` will be *a Series containing the dataframe's COLUMNS*. The changes will be made to each value (i.e. column) in the set of columns.\n",
    "* If `axis=1`, the objects passed to `func` will be *a Series containing the dataframe's ROWS*. The changes will be made to each value (i.e. column) in the set of rows.\n",
    "\n",
    "### Languages\n",
    "\n"
   ]
  },
  {
   "cell_type": "code",
   "execution_count": null,
   "metadata": {},
   "outputs": [],
   "source": [
    "null_lang = movies[pd.isnull(movies['Languages'])].copy()\n",
    "print(movies['Languages'].isnull().sum())\n",
    "null_lang"
   ]
  },
  {
   "cell_type": "markdown",
   "metadata": {},
   "source": [
    "\n",
    "There are 4 movies with `NaN` in their `Languages` field. But do you notice anything? The first movie with sound was The Jazz Singer, released in 1927. All four of these movies were released before that year. \n",
    "\n",
    "\n",
    "* `fillna(value=None, inplace=False)`\n",
    "\n",
    "\n"
   ]
  },
  {
   "cell_type": "code",
   "execution_count": null,
   "metadata": {},
   "outputs": [],
   "source": [
    "movies['Languages'].fillna(value='Silent', inplace=True)\n",
    "movies.loc[null_lang.index]"
   ]
  },
  {
   "cell_type": "markdown",
   "metadata": {},
   "source": [
    "\n",
    "What if other early movies were incorrectly labeled? If we want to be consistent, we need to check and set those to \"Silent\" as well. Write a compound filter to find all the movies that:\n",
    "\n",
    "* were made before 1927\n",
    "* `Languages` value isn't \"Silent\"\n",
    "\n",
    "**NOTE!** When implementing compound filters, you have to use `&` and `|` instead of `and` and `or` respectively.\n"
   ]
  },
  {
   "cell_type": "code",
   "execution_count": null,
   "metadata": {},
   "outputs": [],
   "source": [
    "silent_films = movies[(movies['Year'] < 1927) & (movies['Languages'] != 'Silent')]\n",
    "silent_films"
   ]
  },
  {
   "cell_type": "markdown",
   "metadata": {},
   "source": [
    "\n",
    "\n",
    "\n",
    "\n",
    "\n"
   ]
  },
  {
   "cell_type": "code",
   "execution_count": null,
   "metadata": {},
   "outputs": [],
   "source": [
    "def silent_lang(row):\n",
    "    try:\n",
    "        if row['Year'] < 1927:\n",
    "            row['Languages'] = 'Silent'\n",
    "            return row\n",
    "        else:\n",
    "            return row\n",
    "    except Exception as e:\n",
    "        print(e)\n",
    "        return row\n",
    "\n",
    "temp = movies.copy()\n",
    "\n",
    "pos_test = silent_lang(temp.loc['tt0013442'].copy()) # Nosferatu\n",
    "pos_test"
   ]
  },
  {
   "cell_type": "markdown",
   "metadata": {},
   "source": []
  },
  {
   "cell_type": "code",
   "execution_count": null,
   "metadata": {},
   "outputs": [],
   "source": [
    "neg_test = silent_lang(temp.iloc[0].copy())\n",
    "neg_test"
   ]
  },
  {
   "cell_type": "markdown",
   "metadata": {},
   "source": [
    "\n"
   ]
  },
  {
   "cell_type": "code",
   "execution_count": null,
   "metadata": {},
   "outputs": [],
   "source": [
    "temp = temp.apply(silent_lang, axis=1)\n",
    "temp.loc[silent_films.index]"
   ]
  },
  {
   "cell_type": "markdown",
   "metadata": {},
   "source": []
  },
  {
   "cell_type": "code",
   "execution_count": null,
   "metadata": {},
   "outputs": [],
   "source": [
    "movies = temp.copy()\n",
    "movies[movies['Year'] < 1927]"
   ]
  },
  {
   "cell_type": "markdown",
   "metadata": {},
   "source": [
    "\n",
    "\n",
    "## New Functions Featured\n",
    "\n",
    "Functions featured include (in order of appearance):\n",
    "* `pd.to_numeric(s)`\n",
    "* `s.astype()`\n",
    "* `s.map(arg, na_action=None)`\n",
    "* `s.apply(func)`\n",
    "* `df.dropna(axis=0, how='any', subset=[col1], inplace=False)`\n",
    "* `df.apply(func, axis=0)`\n",
    "* `s.fillna(value=None, inplace=False)`\n",
    "\n",
    "## 🏋️‍♀️ **EXERCISES** 🏋️‍♀️ \n",
    "\n",
    "*TBD*\n",
    "\n",
    "\n"
   ]
  }
 ],
 "metadata": {},
 "nbformat": 4,
 "nbformat_minor": 2
}
