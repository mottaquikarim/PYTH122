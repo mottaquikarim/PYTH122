{
 "cells": [
  {
   "cell_type": "markdown",
   "metadata": {},
   "source": [
    "[![Open In Colab](https://colab.research.google.com/assets/colab-badge.svg)](https://colab.research.google.com/github/mottaquikarim/pycontent/blob/master/.out/intro/project_info.ipynb)"
   ]
  },
  {
   "cell_type": "markdown",
   "metadata": {},
   "source": [
    "# Python Project Ideas\n",
    "\n",
    "## Overview\n",
    "\n",
    "For your final project, you will leverage data to formally analyze a question or problem in an area that interests you. Your project should reflect significant original work in applying beginner data science techniques to your chosen topic. Using public data - such as government data, open business data, or academic research data - is the most common choice. If you have access to private data, that's also an option, though you'll have to be careful about what results you can release. Although final projects are individual assignments, peer code review is strongly encouraged.\n",
    "\n",
    "## Project Deliverables\n",
    "\n",
    "Your final project should be submitted within a **GitHub repository**. At a high level, deliverables include:\n",
    "\n",
    "* A README.md file that contains a brief written summary of your project analysis and its components.\n",
    "* File(s) containing the raw data used in your analysis\n",
    "\t* If it's not possible or practical to include your data, you should link to your data source and provide a sample of the data (anonymized if necessary).\n",
    "* A .ipynb file containing the code for your analysis, presented in a way that creates an engaging, clear, and informative story about your project.\n",
    "\t* Note: You can save from Colab straight into your Github repo.\n",
    "\n",
    "On the last day of class, you will present your final project via your Colab notebook, highlighting relevant speaking points from your written summary.\n",
    "\n",
    "### Written Project Summary\n",
    "\n",
    "Here are the components you should aim to cover in your written summary. This is NOT meant to be an essay. It should be outlined in bullet points and/or small text blocks as applicable.\n",
    "\n",
    "* Problem statement and hypothesis\n",
    "* Description of your data set and how it was obtained\n",
    "* Data dictionary\n",
    "* How and why you chose which variables to use in your analysis\n",
    "* A brief description of any data wrangling and cleaning steps you took\n",
    "* Any challenges encountered\n",
    "* A few key insights you derived from your analysis\n",
    "* Conclusion(s) / key takeaways from your analysis\n",
    "\n",
    "## Example Student Projects\n",
    "\n",
    "*These examples are meant to inspire ideas for your analysis. They should **NOT** be used as reference points for what you need to deliver with your project.*\n",
    "\n",
    "* [Apple's iOS Appstore Analysis](https://github.com/mburschtin/GA-Python-/blob/master/Appstore_Final_Project.ipynb)\n",
    "* [Weather Impact on NYC Electric Load](https://github.com/JPelaez91/GA_Final_Project/blob/master/NYC_Weather_Energy.ipynb)\n",
    "* [FBI NICS - Firearm Background Check Analysis](https://github.com/nmosewe/FBI-NICS---Firearm-Background-Check-Analysis/blob/master/fbi-nics-background-check-analysis.ipynb)\n",
    "* [Financial Development and Structure Research](https://github.com/RoyceKok211/Financial_Development_and_Structure_Research)\n",
    "* [CitiBike Usage/Weather Analysis](https://github.com/vetteryadam2/Citibike_Weather)\n",
    "* [TrueCar Listings Analysis](https://github.com/femi3000/TrueCar_Data/blob/master/Femi_Final_Project.ipynb)\n",
    "* [2017 World Happiness Index](https://github.com/rforray/world_happiness_2017)\n",
    "* [Pantheon Project: Historical Popularity Index](https://github.com/jeannkwonn/pantheon_project)"
   ]
  }
 ],
 "metadata": {},
 "nbformat": 4,
 "nbformat_minor": 2
}
