{
 "cells": [
  {
   "cell_type": "markdown",
   "metadata": {},
   "source": [
    "[![Open In Colab](https://colab.research.google.com/assets/colab-badge.svg)](https://colab.research.google.com/github/mottaquikarim/pycontent/blob/master/.out/intro/about.ipynb)"
   ]
  },
  {
   "cell_type": "markdown",
   "metadata": {},
   "source": [
    "# About\n",
    "\n",
    "Built by your boy **[Taq Karim](https://taqkarim.dev)** and **Julianna Garreffa** 😍 with **[this](https://github.com/rust-lang-nursery/mdBook)**, **[this](https://travis-ci.org/)**, ☕☕☕ and ❤️. \n",
    "\n",
    "[![Build Status](https://travis-ci.org/mottaquikarim/PythonProgramming.svg?branch=master)](https://travis-ci.org/mottaquikarim/PythonProgramming)\n",
    "\n",
    "*Find the project source on **[github](https://github.com/mottaquikarim/PythonProgramming)**.* \n"
   ]
  }
 ],
 "metadata": {},
 "nbformat": 4,
 "nbformat_minor": 2
}
