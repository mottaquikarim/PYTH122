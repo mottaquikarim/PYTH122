{
 "cells": [
  {
   "cell_type": "markdown",
   "metadata": {},
   "source": [
    "[![Open In Colab](https://colab.research.google.com/assets/colab-badge.svg)](https://colab.research.google.com/github/mottaquikarim/pycontent/blob/master/.out/homework/all_hw.ipynb)"
   ]
  },
  {
   "cell_type": "markdown",
   "metadata": {},
   "source": [
    "# Homework Assignments\n",
    "\n",
    "*To be listed as we progress through content...*\n",
    "\n",
    "\n",
    "|    Assignmment   |   Assigned   |   **DUE**   |\n",
    "|:----------------:|:------------:|:-----------:|\n",
    "|    *[hw1]()*     |    *TBD*     |    *TBD*    |\n",
    "\n"
   ]
  }
 ],
 "metadata": {},
 "nbformat": 4,
 "nbformat_minor": 2
}
